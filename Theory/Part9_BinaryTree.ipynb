{
 "cells": [
  {
   "cell_type": "code",
   "execution_count": 19,
   "metadata": {},
   "outputs": [],
   "source": [
    "class Node:\n",
    "    def __init__(self,data):\n",
    "        self.data = data\n",
    "        self.left = None\n",
    "        self.right = None\n",
    "    def insert_node(self,item):\n",
    "        if self.data:\n",
    "            if item < self.data: # nếu nhỏ hơn thì qua trái, lớn hơn thì qua phải\n",
    "                if self.left is None:\n",
    "                    self.left = Node(item)\n",
    "                else:\n",
    "                    self.left.insert_node(item)\n",
    "            elif item > self.data:\n",
    "                if self.right is None:\n",
    "                    self.right = Node(item)\n",
    "                else:\n",
    "                    self.right.insert_node(item)\n",
    "    def LNR(self):\n",
    "        if self.left:\n",
    "           self.left.LNR()\n",
    "        if self.right:\n",
    "            self.right.LNR()\n",
    "        print(self.data)\n",
    "    def print_tree(self, prefix=\"\", is_left=True):\n",
    "        if self.right:\n",
    "            self.right.print_tree(prefix + (\"│   \" if is_left else \"    \"), False)\n",
    "        \n",
    "        print(prefix + (\"└── \" if is_left else \"┌── \") + str(self.data))\n",
    "        \n",
    "        if self.left:\n",
    "            self.left.print_tree(prefix + (\"    \" if is_left else \"│   \"), True)\n",
    "    def search(self,data):\n",
    "        if self.data == data:\n",
    "            return self\n",
    "        if data <self.data and self.left:\n",
    "            return self.left.search(data)\n",
    "        elif data > self.data and self.right: #nếu self.data là giá trị ở giữa nhỏ hơn thì sang phải\n",
    "            return self.right.search(data)\n",
    "        return None"
   ]
  },
  {
   "cell_type": "code",
   "execution_count": 20,
   "metadata": {},
   "outputs": [
    {
     "name": "stdout",
     "output_type": "stream",
     "text": [
      "2\n",
      "3\n",
      "16\n",
      "5\n",
      "14\n",
      "6\n",
      "7\n",
      "8\n",
      "9\n",
      "10\n"
     ]
    }
   ],
   "source": [
    "nodeR = Node('10')\n",
    "nodeR.insert_node('9')\n",
    "nodeR.insert_node('8')\n",
    "nodeR.insert_node('7')\n",
    "nodeR.insert_node('6')\n",
    "nodeR.insert_node('14')\n",
    "nodeR.insert_node('5')\n",
    "nodeR.insert_node('16')\n",
    "nodeR.insert_node('3')\n",
    "nodeR.insert_node('2')\n",
    "nodeR.LNR()"
   ]
  },
  {
   "cell_type": "code",
   "execution_count": 21,
   "metadata": {},
   "outputs": [
    {
     "name": "stdout",
     "output_type": "stream",
     "text": [
      "│   ┌── 9\n",
      "│   │   └── 8\n",
      "│   │       └── 7\n",
      "│   │           └── 6\n",
      "│   │               │   ┌── 5\n",
      "│   │               │   │   │   ┌── 3\n",
      "│   │               │   │   │   │   └── 2\n",
      "│   │               │   │   └── 16\n",
      "│   │               └── 14\n",
      "└── 10\n"
     ]
    }
   ],
   "source": [
    "nodeR.print_tree()"
   ]
  },
  {
   "cell_type": "code",
   "execution_count": null,
   "metadata": {},
   "outputs": [],
   "source": []
  }
 ],
 "metadata": {
  "kernelspec": {
   "display_name": "Python 3",
   "language": "python",
   "name": "python3"
  },
  "language_info": {
   "codemirror_mode": {
    "name": "ipython",
    "version": 3
   },
   "file_extension": ".py",
   "mimetype": "text/x-python",
   "name": "python",
   "nbconvert_exporter": "python",
   "pygments_lexer": "ipython3",
   "version": "3.11.4"
  }
 },
 "nbformat": 4,
 "nbformat_minor": 2
}
