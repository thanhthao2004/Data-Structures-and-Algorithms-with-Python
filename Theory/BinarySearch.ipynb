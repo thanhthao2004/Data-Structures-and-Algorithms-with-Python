{
 "cells": [
  {
   "cell_type": "code",
   "execution_count": 17,
   "metadata": {},
   "outputs": [
    {
     "name": "stdout",
     "output_type": "stream",
     "text": [
      "[1, 7, 10, 15, 18, 19, 22, 25, 30, 120]\n",
      "Head la:  0\n",
      "Tail la:  9\n",
      "Middle la:  4\n",
      "3 ở 18\n",
      "1\n",
      "0 ở 7\n",
      "0\n",
      "1 ở 1\n",
      "0\n",
      "Không tìm thấy số: 4\n"
     ]
    }
   ],
   "source": [
    "        \n",
    "#? Tìm kiếm nhị phân (Binary Search)\n",
    "\n",
    "'''\n",
    "    @params: input_arr, target\n",
    "    - input_arr: mảng cần duyệt\n",
    "    - target: giá trị mình muốn tìm kiếm\n",
    "    \n",
    "    @note: dừng vòng lặp khi head > tail\n",
    "'''\n",
    "def binary_search(input_arr, target):\n",
    "    # 1. Sắp xếp lại mảng (k nằm trong thuật toán)\n",
    "    input_arr.sort()\n",
    "    print(input_arr)\n",
    "    # 2. Xác định vị trí index đầu và index cuối\n",
    "    head = 0\n",
    "    tail = len(input_arr) - 1 # 4\n",
    "    print(\"Head la: \",head)\n",
    "    print(\"Tail la: \",tail)\n",
    "    # 3. Tính vị trí chính giữa \n",
    "    middle = (head + tail) // 2 \n",
    "    print(\"Middle la: \",middle)\n",
    "    # 4. Kiểm tra giá trị tại index chính giữa\n",
    "    while head <= tail:\n",
    "        if input_arr[middle] == target:\n",
    "            return 1\n",
    "        else:\n",
    "            # 5. Cập nhật head hoặc tail nếu không tìm được target\n",
    "            if input_arr[middle] > target:\n",
    "                tail = middle - 1\n",
    "                print(f\"{tail} ở {input_arr[middle]}\")\n",
    "            else:\n",
    "                head = middle + 1\n",
    "                print(f\"{head} ở {input_arr[middle]}\")\n",
    "            middle = (head + tail) // 2\n",
    "            print(middle)\n",
    "    return -1\n",
    "\n",
    "numbers = [1, 10, 7, 30, 22, 25, 120, 15, 18, 19]\n",
    "target = int(input(\"Nhập số để tìm kiếm: \"))\n",
    "\n",
    "# result = linear_search(numbers, target)\n",
    "result = binary_search(numbers, target)\n",
    "\n",
    "if result == 1:\n",
    "    print(f\"Tìm thấy số: {target}\")\n",
    "else:\n",
    "    print(f\"Không tìm thấy số: {target}\")\n",
    "    "
   ]
  },
  {
   "cell_type": "code",
   "execution_count": null,
   "metadata": {},
   "outputs": [],
   "source": [
    "def binary_search(arr, target):\n",
    "    arr.sort()\n",
    "    head = 0\n",
    "    tail = len(arr)-1\n",
    "    middle = (head-tail)//2\n",
    "    while(head<=tail):\n",
    "        if arr[middle]==target:\n",
    "            return 1\n",
    "        else:\n",
    "            if(arr[middle]> target):\n",
    "                tail = middle - 1\n",
    "            else:\n",
    "                head = middle +1\n",
    "            middle = (head+tail)//2\n",
    "    return -1"
   ]
  },
  {
   "cell_type": "code",
   "execution_count": 22,
   "metadata": {},
   "outputs": [
    {
     "name": "stdout",
     "output_type": "stream",
     "text": [
      "Khong tim thay so:  0\n"
     ]
    }
   ],
   "source": [
    "arr = [3,5,1,9,23,2,55]\n",
    "search = int(input(\"Nhap so ban muon tim: \"))\n",
    "kq =  binary_search(arr, search)\n",
    "if(kq == 1):\n",
    "    print(\"tim thay so: \", search)\n",
    "else:\n",
    "    print(\"Khong tim thay so: \", search)"
   ]
  }
 ],
 "metadata": {
  "kernelspec": {
   "display_name": "Python 3",
   "language": "python",
   "name": "python3"
  },
  "language_info": {
   "codemirror_mode": {
    "name": "ipython",
    "version": 3
   },
   "file_extension": ".py",
   "mimetype": "text/x-python",
   "name": "python",
   "nbconvert_exporter": "python",
   "pygments_lexer": "ipython3",
   "version": "3.11.4"
  }
 },
 "nbformat": 4,
 "nbformat_minor": 2
}
