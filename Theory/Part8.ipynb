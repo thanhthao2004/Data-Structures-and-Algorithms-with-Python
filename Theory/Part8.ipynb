{
 "cells": [
  {
   "cell_type": "code",
   "execution_count": null,
   "metadata": {},
   "outputs": [],
   "source": [
    "class Node:\n",
    "    def __init__(self, number, gpa=None, name=None):\n",
    "        self.number = number\n",
    "        self.gpa = gpa\n",
    "        self.name = name\n",
    "        self.next = None"
   ]
  },
  {
   "cell_type": "code",
   "execution_count": 4,
   "metadata": {},
   "outputs": [],
   "source": [
    "class LinkedList:\n",
    "    def __init__(self):\n",
    "        self.head = None  # liên kết đơn\n",
    "\n",
    "    def is_empty(self):  # kiểm tra rỗng\n",
    "        return self.head is None\n",
    "\n",
    "    def append_node(self, number, gpa=None, name=None):\n",
    "        new_node = Node(number, gpa, name)\n",
    "        if self.is_empty():\n",
    "            self.head = new_node\n",
    "        else:\n",
    "            c = self.head\n",
    "            while c.next:\n",
    "                c = c.next\n",
    "            c.next = new_node\n",
    "\n",
    "    def pre_node(self, number, gpa=None, name=None):\n",
    "        new_node = Node(number, gpa, name)\n",
    "        new_node.next = self.head\n",
    "        self.head = new_node\n",
    "\n",
    "    def after_node(self, pre_node, number, gpa=None, name=None):\n",
    "        new_node = Node(number, gpa, name)\n",
    "        new_node.next = pre_node.next\n",
    "        pre_node.next = new_node\n",
    "\n",
    "    def show(self):\n",
    "        arr = []\n",
    "        c = self.head\n",
    "        while c:\n",
    "            arr.append(c.number)\n",
    "            c = c.next\n",
    "        print(\"->\".join(map(str, arr)))\n",
    "\n",
    "    def search_id(self, id):\n",
    "        c = self.head\n",
    "        while c:\n",
    "            if c.number == id:\n",
    "                return c\n",
    "            c = c.next\n",
    "        return None\n",
    "\n",
    "    def update(self, id, name):\n",
    "        ketqua = self.search_id(id)\n",
    "        if ketqua:\n",
    "            if name:\n",
    "                ketqua.name = name\n",
    "                print(\"Cập nhật thành công\")\n",
    "            else:\n",
    "                print(\"Cập nhật thất bại\")\n",
    "\n",
    "    def sort_gpa(self):\n",
    "        if self.is_empty():\n",
    "            return None\n",
    "        arr = []\n",
    "        current = self.head\n",
    "        while current:\n",
    "            arr.append(current)\n",
    "            current = current.next\n",
    "        arr.sort(key=lambda x: x.gpa, reverse=True)\n",
    "\n",
    "        self.head = arr[0]\n",
    "        current = self.head\n",
    "        for node in arr[1:]:\n",
    "            current.next = node\n",
    "            current = current.next\n",
    "        current.next = None"
   ]
  },
  {
   "cell_type": "code",
   "execution_count": 5,
   "metadata": {},
   "outputs": [
    {
     "name": "stdout",
     "output_type": "stream",
     "text": [
      "2->1->3\n"
     ]
    }
   ],
   "source": [
    "# Example usage:\n",
    "ll = LinkedList()\n",
    "ll.append_node(1, 3.5, \"Alice\")\n",
    "ll.append_node(2, 3.8, \"Bob\")\n",
    "ll.append_node(3, 3.2, \"Charlie\")\n",
    "\n",
    "ll.sort_gpa()\n",
    "\n",
    "ll.show()"
   ]
  }
 ],
 "metadata": {
  "kernelspec": {
   "display_name": "Python 3",
   "language": "python",
   "name": "python3"
  },
  "language_info": {
   "codemirror_mode": {
    "name": "ipython",
    "version": 3
   },
   "file_extension": ".py",
   "mimetype": "text/x-python",
   "name": "python",
   "nbconvert_exporter": "python",
   "pygments_lexer": "ipython3",
   "version": "3.11.4"
  }
 },
 "nbformat": 4,
 "nbformat_minor": 2
}
