{
 "cells": [
  {
   "cell_type": "code",
   "execution_count": 54,
   "metadata": {},
   "outputs": [],
   "source": [
    "class Node:\n",
    "    def __init__(self,data):\n",
    "        self.data = data\n",
    "        self.ds = []\n",
    "    def add_node(self,number):\n",
    "        self.ds.append(number)\n",
    "    def print_node(self,level = 0):\n",
    "        intent = \"    \"* level\n",
    "        print(f\"{intent} |-- {self.data}\")\n",
    "        for i in self.ds:\n",
    "            i.print_node(level+1)\n",
    "    def search(self,data):\n",
    "        if self.data == data:\n",
    "            return self\n",
    "        for i in self.ds:\n",
    "            r = i.search(data)\n",
    "            if r:\n",
    "                return r\n",
    "        return None"
   ]
  },
  {
   "cell_type": "code",
   "execution_count": 55,
   "metadata": {},
   "outputs": [
    {
     "name": "stdout",
     "output_type": "stream",
     "text": [
      " |-- R\n",
      "     |-- A\n",
      "         |-- D\n",
      "         |-- E\n",
      "     |-- B\n",
      "     |-- C\n",
      "         |-- F\n",
      "         |-- G\n",
      "         |-- H\n",
      "         |-- I\n"
     ]
    }
   ],
   "source": [
    "nodeR = Node(\"R\")\n",
    "nodeA = Node(\"A\")\n",
    "nodeB = Node(\"B\")\n",
    "nodeC = Node(\"C\")\n",
    "nodeR.add_node(nodeA)\n",
    "nodeR.add_node(nodeB)\n",
    "nodeR.add_node(nodeC)\n",
    "nodeD = Node(\"D\")\n",
    "nodeE = Node(\"E\")\n",
    "nodeF = Node(\"F\")\n",
    "nodeG = Node(\"G\")\n",
    "nodeH = Node(\"H\")\n",
    "nodeI = Node(\"I\")\n",
    "nodeA.add_node(nodeD)\n",
    "nodeA.add_node(nodeE)\n",
    "nodeC.add_node(nodeF)\n",
    "nodeC.add_node(nodeG)\n",
    "nodeC.add_node(nodeH)\n",
    "nodeC.add_node(nodeI)\n",
    "nodeR.print_node()"
   ]
  },
  {
   "cell_type": "code",
   "execution_count": 56,
   "metadata": {},
   "outputs": [
    {
     "name": "stdout",
     "output_type": "stream",
     "text": [
      "Da tim thay\n"
     ]
    }
   ],
   "source": [
    "data1 = nodeA.data\n",
    "kq = nodeR.search(data1)\n",
    "if kq==None:\n",
    "    print (\"Khong tim thay\")\n",
    "else:\n",
    "    print(\"Da tim thay\")"
   ]
  },
  {
   "cell_type": "code",
   "execution_count": null,
   "metadata": {},
   "outputs": [],
   "source": []
  }
 ],
 "metadata": {
  "kernelspec": {
   "display_name": "Python 3",
   "language": "python",
   "name": "python3"
  },
  "language_info": {
   "codemirror_mode": {
    "name": "ipython",
    "version": 3
   },
   "file_extension": ".py",
   "mimetype": "text/x-python",
   "name": "python",
   "nbconvert_exporter": "python",
   "pygments_lexer": "ipython3",
   "version": "3.11.4"
  }
 },
 "nbformat": 4,
 "nbformat_minor": 2
}
