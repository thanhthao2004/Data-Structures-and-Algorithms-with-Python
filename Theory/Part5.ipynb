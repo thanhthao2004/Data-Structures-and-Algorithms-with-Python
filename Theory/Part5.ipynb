{
 "cells": [
  {
   "cell_type": "code",
   "execution_count": 45,
   "metadata": {},
   "outputs": [],
   "source": [
    "class SinhVien:\n",
    "    def __init__(self, mssv, hoten, tuoi, gpa):\n",
    "        self.mssv = mssv\n",
    "        self.hoten = hoten\n",
    "        self.tuoi = tuoi\n",
    "        self.gpa = gpa\n",
    "    def inThongTin(self):\n",
    "        return f\"mssv: {self.mssv}, họ tên: {self.hoten}, tuoi: {self.tuoi}, gpa: {self.gpa}\""
   ]
  },
  {
   "cell_type": "code",
   "execution_count": 46,
   "metadata": {},
   "outputs": [
    {
     "data": {
      "text/plain": [
       "'mssv: 1, họ tên: Thảo, tuoi: 21, gpa: 3'"
      ]
     },
     "execution_count": 46,
     "metadata": {},
     "output_type": "execute_result"
    }
   ],
   "source": [
    "sv = SinhVien(1, \"Thảo\", 21,3)\n",
    "sv.inThongTin()"
   ]
  },
  {
   "cell_type": "code",
   "execution_count": 59,
   "metadata": {},
   "outputs": [],
   "source": [
    "class QLSV:\n",
    "    def __init__(self):\n",
    "        self.ds = []\n",
    "    def add_SV(self):\n",
    "        id = input(\"Moi ban nhap mssv: \")\n",
    "        fullname = input(\"Moi ban nhap ho ten: \")\n",
    "        age = input(\"Moi ban nhap tuoi: \") \n",
    "        gpa = input(\"Moi ban nhap gpa: \")\n",
    "        \n",
    "        sv = SinhVien(id, fullname, age, gpa)\n",
    "        self.ds.append(sv)\n",
    "    def show_SV(self):\n",
    "        if not self.ds:\n",
    "            print(\"Khong co sinh vien nao ca\")\n",
    "        for sv in self.ds:\n",
    "            print(sv.inThongTin())\n",
    "    def bubble_sort(self):\n",
    "        n = len(self.ds)\n",
    "        for i in range(n):\n",
    "            for j in range(0, n-1-i):\n",
    "                if self.ds[j].gpa > self.ds[j+1].gpa:\n",
    "                    self.ds[j], self.ds[j+1] =  self.ds[j+1], self.ds[j]\n",
    "        #self.show_SV()\n",
    "    def insertion_sort():\n",
    "        n = len(self.ds)\n",
    "        for i in range(1,n):\n",
    "            key = self.ds[i]\n",
    "            j = i -1\n",
    "            while j >= 0 \n"
   ]
  },
  {
   "cell_type": "code",
   "execution_count": 63,
   "metadata": {},
   "outputs": [],
   "source": [
    "ql = QLSV()"
   ]
  },
  {
   "cell_type": "code",
   "execution_count": 49,
   "metadata": {},
   "outputs": [],
   "source": [
    "ql.add_SV()"
   ]
  },
  {
   "cell_type": "code",
   "execution_count": 50,
   "metadata": {},
   "outputs": [
    {
     "name": "stdout",
     "output_type": "stream",
     "text": [
      "mssv: 1, họ tên: th, tuoi: 3, gpa: 12\n"
     ]
    }
   ],
   "source": [
    "ql.show_SV()"
   ]
  },
  {
   "cell_type": "code",
   "execution_count": 64,
   "metadata": {},
   "outputs": [],
   "source": [
    "ql.bubble_sort()"
   ]
  },
  {
   "cell_type": "code",
   "execution_count": 66,
   "metadata": {},
   "outputs": [],
   "source": [
    "def menu():\n",
    "    ql = QLSV()\n",
    "    while true:\n",
    "        print(\"Moi ban lua chon \")\n",
    "        print(\"1. them sinh vien\")\n",
    "        print(\"2. Bubble sort\")\n",
    "        print(\"3. Show danh sach\")\n",
    "        choice = input(\"Nhap so di: \")\n",
    "        if choice == 1:\n",
    "            ql.add_SV() \n",
    "        elif choice == 2:\n",
    "            ql.bubble_sort()\n",
    "        elif choice == 2:\n",
    "            ql.show_SV()\n",
    "        else:\n",
    "            break"
   ]
  }
 ],
 "metadata": {
  "kernelspec": {
   "display_name": "Python 3",
   "language": "python",
   "name": "python3"
  },
  "language_info": {
   "codemirror_mode": {
    "name": "ipython",
    "version": 3
   },
   "file_extension": ".py",
   "mimetype": "text/x-python",
   "name": "python",
   "nbconvert_exporter": "python",
   "pygments_lexer": "ipython3",
   "version": "3.11.4"
  }
 },
 "nbformat": 4,
 "nbformat_minor": 2
}
