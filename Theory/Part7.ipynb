{
 "cells": [
  {
   "cell_type": "markdown",
   "metadata": {},
   "source": [
    "### Danh sách liên kết với mảng: tác dụng là tránh thừa bộ nhớ\n",
    "- Nếu dùng mảng thì phải duyệt (khai báo bao nhiêu thì cố định vậy)\n",
    "- Danh sách chỉ cần trỏ tới nó\n",
    "    - Node: có data và con trỏ"
   ]
  },
  {
   "cell_type": "code",
   "execution_count": 142,
   "metadata": {},
   "outputs": [],
   "source": [
    "class Node:\n",
    "    #cần biết dữ liệu là gì dể chuyển vào\n",
    "    #node cần con trỏ trỏ tới địa chỉ thêm, mới đầu chưa trỏ nên để self.pNext = None\n",
    "    def __init__(self,data):\n",
    "        self.data = data\n",
    "        self.pNext = None"
   ]
  },
  {
   "cell_type": "code",
   "execution_count": 143,
   "metadata": {},
   "outputs": [],
   "source": [
    "class DSLK:\n",
    "    def __init__(self):\n",
    "        self.pHead = None #liên kết đơn\n",
    "    def is_empty(self): #kiểm tra rỗng\n",
    "        return self.pHead is None\n",
    "    def add_node(self,data):\n",
    "        #tạo node(data) để dữ liệu nhận node \n",
    "        #DSLK chỉ nhận Node\n",
    "        new_node = Node(data)\n",
    "        if self.is_empty():\n",
    "            self.pHead = new_node\n",
    "            return\n",
    "        current = self.pHead #cho current là đầu tiên\n",
    "        while current.pNext: # lặp current.pNext để chạy tìm null\n",
    "            current = current.pNext  #gán current = null\n",
    "        current.pNext = new_node  #thêm curent = new_node\n",
    "    def show(self):\n",
    "        arr = []\n",
    "        current = self.pHead\n",
    "        while current:\n",
    "            arr.append(current.data) #thêm số trong cục node nên .data\n",
    "            current = current.pNext #current trỏ đến pNext là phần tử tiếp theo để lấy vào mảng\n",
    "        print(\"->\".join(map(str,arr)))\n",
    "    def pre_node(self,data): #thêm vào đầu \n",
    "        new_node = Node(data) #độ phức tạp là O(1) vì chỉ cần chèn vào đầu không cần dời từng phần tử giống mảng\n",
    "        new_node.pNext=self.pHead \n",
    "        self.pHead = new_node\n",
    "    def after_node(self,prev_node,data):\n",
    "        new_node = Node(data)\n",
    "        prev_node.pNext = new_node.pNext\n",
    "        new_node.pNext = prev_node\n",
    "    def search(self,data):\n",
    "        current = self.pHead\n",
    "        while current:\n",
    "            if current.data == data:\n",
    "                return True\n",
    "            current = current.pNext\n",
    "        return False\n",
    "    # def update(self,data):\n"
   ]
  },
  {
   "cell_type": "code",
   "execution_count": 144,
   "metadata": {},
   "outputs": [],
   "source": [
    "ds = DSLK()"
   ]
  },
  {
   "cell_type": "code",
   "execution_count": 145,
   "metadata": {},
   "outputs": [
    {
     "name": "stdout",
     "output_type": "stream",
     "text": [
      "6->2->3->4->9->12\n",
      "Thảo xinh đẹp\n"
     ]
    }
   ],
   "source": [
    "ds.is_empty()\n",
    "ds.add_node(2)\n",
    "ds.add_node(3)\n",
    "ds.add_node(4)\n",
    "ds.pre_node(6)\n",
    "ds.add_node(9)\n",
    "ds.add_node(12)\n",
    "ds.show()\n",
    "kq = ds.search(2)\n",
    "if kq:\n",
    "    print(\"Thảo xinh đẹp\")\n",
    "else:\n",
    "    print(\"Tôi không tìm thấy Thảo\")"
   ]
  },
  {
   "cell_type": "code",
   "execution_count": 146,
   "metadata": {},
   "outputs": [],
   "source": [
    "class Sinhvien:\n",
    "    def __init__(self,id, name=None):\n",
    "        self.id = id\n",
    "        self.name = name\n",
    "    def __str__(self):\n",
    "        return f\"id: {self.id} và name: {self.name}\""
   ]
  }
 ],
 "metadata": {
  "kernelspec": {
   "display_name": "Python 3",
   "language": "python",
   "name": "python3"
  },
  "language_info": {
   "codemirror_mode": {
    "name": "ipython",
    "version": 3
   },
   "file_extension": ".py",
   "mimetype": "text/x-python",
   "name": "python",
   "nbconvert_exporter": "python",
   "pygments_lexer": "ipython3",
   "version": "3.11.4"
  }
 },
 "nbformat": 4,
 "nbformat_minor": 2
}
