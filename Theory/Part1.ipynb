{
 "cells": [
  {
   "cell_type": "code",
   "execution_count": 2,
   "metadata": {},
   "outputs": [
    {
     "data": {
      "text/plain": [
       "('Diện tích hình tròn:', 12.56)"
      ]
     },
     "execution_count": 2,
     "metadata": {},
     "output_type": "execute_result"
    }
   ],
   "source": [
    "# 3. Viết chương trình nhập vào bán kính của một hình tròm và tính diện tích của nó\n",
    "ban_kinh = float(input(\"Nhap ban kinh hinh tròn:\"))\n",
    "def Dientich(ban_kinh):\n",
    "    dientich = ban_kinh * ban_kinh * 3.14\n",
    "    return(\"Diện tích hình tròn:\", dientich)\n",
    "Dientich(ban_kinh)"
   ]
  },
  {
   "cell_type": "code",
   "execution_count": 4,
   "metadata": {},
   "outputs": [
    {
     "name": "stdout",
     "output_type": "stream",
     "text": [
      "1\n",
      "2\n",
      "4\n",
      "5\n",
      "6\n",
      "7\n",
      "8\n",
      "9\n",
      "10\n"
     ]
    }
   ],
   "source": [
    "# 2. Tìm số lớn nhất trong danh sách\n",
    "a = [1,2,4,5,6,7,8,9,10]\n",
    "def Max():\n",
    "    a_max = 0\n",
    "    for i in range(len(a)):\n",
    "        if (a_max < a[i]):\n",
    "            a_max = a[i]\n",
    "Max()"
   ]
  },
  {
   "cell_type": "code",
   "execution_count": null,
   "metadata": {},
   "outputs": [],
   "source": [
    "n = int(input(\"nhap so luong: \"))\n",
    "ds = []\n",
    "for item in range(n-1):\n",
    "    "
   ]
  },
  {
   "cell_type": "code",
   "execution_count": 16,
   "metadata": {},
   "outputs": [
    {
     "name": "stdout",
     "output_type": "stream",
     "text": [
      "danh sách số lẻ: 1\n",
      "danh sách số lẻ: 7\n",
      "danh sách số chẵn: 8\n"
     ]
    }
   ],
   "source": [
    "#nhập danh sách tối thiểu n số, tìm danh sách số chẵn và danh sách số lẻ \n",
    "n = int(input(\"nhap so luong: \"))\n",
    "ds = []\n",
    "for i in range(n):\n",
    "    nhap = int(input(\"nhap so:\"))\n",
    "    ds.append(nhap)\n",
    "for i in   range(len(ds)):\n",
    "    if(ds[i] % 2 == 0):\n",
    "        print(f\"danh sách số chẵn: {ds[i]}\")\n",
    "    else:\n",
    "        print(f\"danh sách số lẻ: {ds[i]}\")"
   ]
  },
  {
   "cell_type": "code",
   "execution_count": null,
   "metadata": {},
   "outputs": [],
   "source": [
    "#nhập danh sách tối thiểu n số, tìm danh sách số chẵn và danh sách số lẻ \n",
    "n = int(input(\"nhap so luong: \"))\n",
    "ds = []\n",
    "def KiemtrasoChanLe():\n",
    "    dsc=[]\n",
    "    dsl=[]\n",
    "    for i in range(n):\n",
    "        nhap = int(input(\"nhap so:\"))\n",
    "        ds.append(nhap)\n",
    "    for i in range(len(ds)):\n",
    "        if(ds[i] % 2 == 0):\n",
    "            \n",
    "        else:\n",
    "            print(f\"danh sách số lẻ: {ds[i]}\")"
   ]
  }
 ],
 "metadata": {
  "kernelspec": {
   "display_name": "Python 3",
   "language": "python",
   "name": "python3"
  },
  "language_info": {
   "codemirror_mode": {
    "name": "ipython",
    "version": 3
   },
   "file_extension": ".py",
   "mimetype": "text/x-python",
   "name": "python",
   "nbconvert_exporter": "python",
   "pygments_lexer": "ipython3",
   "version": "3.11.10"
  }
 },
 "nbformat": 4,
 "nbformat_minor": 2
}
