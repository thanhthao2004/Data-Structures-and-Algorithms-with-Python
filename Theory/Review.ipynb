{
 "cells": [
  {
   "cell_type": "markdown",
   "metadata": {},
   "source": [
    "### 1. Overloading và overiding khác gì nhau\n",
    "* overloading:\n",
    "- tên hàm giống nhau input khác nhau\n",
    "* overiding:\n",
    "- tên hàm giống nhau input giống nhau"
   ]
  },
  {
   "cell_type": "markdown",
   "metadata": {},
   "source": [
    "### 2. Tại sao phải có lớp\n",
    "### 3: Trong lớp có 2 phần: thuộc tính và phương thức\n",
    "### 4. Trong lớp có được phép trùng tên hàm không ?\n",
    "### 5. Sự tối ưu của thuật toán về lý thuyết, thuật toán nào hơn thuật toán nào\n",
    "### 6. Xác định độ phức tạp của thuật toán"
   ]
  },
  {
   "cell_type": "markdown",
   "metadata": {},
   "source": [
    "## BÀI TẬP"
   ]
  },
  {
   "cell_type": "markdown",
   "metadata": {},
   "source": [
    "Xây dựng lớp (0.5)\n",
    "- Media class: lưu trữ các thông tin cơ bản về phương tiện trong thư viện (id, title, year, category, available)\n",
    "- Book Class (id, title, year, category, available, author, publisher, pages, ISBN)\n",
    "- DVD Class (id, title, year, category, available, director, runtime, language, subtitles) \n",
    "- Journal Class (id, title, year, category, available , volume, issue, publisher, field)\n"
   ]
  },
  {
   "cell_type": "code",
   "execution_count": null,
   "metadata": {},
   "outputs": [],
   "source": [
    "class Media:\n",
    "    def __init__(self, id, title, year, category, available):\n",
    "        self.id = id\n",
    "        self.title = title\n",
    "        self.year = year\n",
    "        self.category = category\n",
    "        self.available = available\n",
    "    def __str__(self):\n",
    "        return f\"Mã sách: {self.id}, tiêu đề: {self.title}, năm xuất bản: {self.year}, phân loại: {self.category}, trạng thái: {self.available}\"\n",
    "class Book(Media):\n",
    "    def __init__(self, id, title, year, category, available, author, publisher, pages, ISBN):\n",
    "        super().__init__(id, title, year, category, available)\n",
    "        self.author = author\n",
    "        self.publisher = publisher\n",
    "        self.pages = pages\n",
    "        self.available = available\n",
    "        self.ISBN = ISBN\n",
    "    def __str__(self):\n",
    "        return super().__str__() + f\", tác giả: {self.author}, nhà xuất bản: {self.publisher}, số trang: {self.pages}, ISBN: {self.ISBN}\"\n",
    "class DVD(Media):\n",
    "    def __init__(self, id, title, year, category, available,  director, runtime, language, subtitles):\n",
    "        super().__init__(id, title, year, category, available)\n",
    "        self.director = director\n",
    "        self.language = language\n",
    "        self.subtitles = subtitles\n",
    "        self.runtime = runtime\n",
    "    def __str__(self):\n",
    "        return super().__str__() + f\"giám đốc sản xuất: {self.director}, \"\n",
    "class Journal(Media):\n",
    "    def __init__(self, id, title, year, category, available, volume, issue, publisher, field):\n",
    "        super().__init__(id, title, year, category, available)\n",
    "        self.volume = volume\n",
    "        self.issue = issue\n",
    "        self.publisher = publisher\n",
    "        self.field = field\n",
    "    def __str__(self):\n",
    "        return super().__str__() + f\"Ổ đĩa: \""
   ]
  },
  {
   "cell_type": "code",
   "execution_count": null,
   "metadata": {},
   "outputs": [],
   "source": [
    "class QLStack: #ngăn xếp\n",
    "    def __init__(self):\n",
    "        self.stack = []\n",
    "    def is_empty(self):\n",
    "        return len(self.stack) == 0\n",
    "    def push(self, number):\n",
    "        self.stack.insert(0,number)\n",
    "    def pop(self):\n",
    "        return self.stack.pop(0)"
   ]
  },
  {
   "cell_type": "code",
   "execution_count": null,
   "metadata": {},
   "outputs": [],
   "source": [
    "class QLQueue: #hàng đợi\n",
    "    def __init__(self):\n",
    "        self.queue = []\n",
    "    def is_empty(self):\n",
    "        return len(self.queue) == 0\n",
    "    def push(self, number):\n",
    "        self.queue.append(number)\n",
    "    def pop(self):\n",
    "        return self.queue.pop()"
   ]
  },
  {
   "cell_type": "markdown",
   "metadata": {},
   "source": [
    "Xây dựng menu với các chức năng sau (0.5đ)\n",
    "- Người dùng nhập số lượng n, sau đó thêm n media khác nhau (có thể là sách, phim, hoặc\n",
    "nhạc) vào hệ thống theo lựa chọn của người dùng cho mỗi lần thêm Xóa media (1đ)\n",
    "- Hiển thị danh sách media (0.5)\n",
    "- Tìm kiếm media theo ID (Linear Search) 0.5đ\n",
    "- Cập nhật thông tin media (0.5đ)\n",
    "- Tìm media mới nhất theo năm phát hành (Binary Search) (1đ)\n",
    "- Sắp xếp media theo ID sử dụng (Selection Sort) (1đ)\n",
    "- Lưu trữ dữ liệu media vào file (1đ)\n",
    "- Đọc dữ liệu media từ file (1đ)"
   ]
  },
  {
   "cell_type": "code",
   "execution_count": null,
   "metadata": {},
   "outputs": [],
   "source": [
    "class Quanly:\n",
    "    def __init__(self):\n",
    "        self.ds = QLStack()\n",
    "    def add_user(self, item):\n",
    "        self.ds.push(item)\n",
    "    def remove_user(self):\n",
    "        if self.ds.is_empty():\n",
    "            return \"Nothing!\"\n",
    "        return self.ds.pop()\n",
    "    def show(self):\n",
    "        if self.ds.is_empty():\n",
    "            return \"Nothing!\"\n",
    "        for item in self.ds:\n",
    "            return item\n",
    "    def search_id(self, id):\n",
    "        for i in self.ds:\n",
    "            if i.id == id:\n",
    "                return True\n",
    "        return False\n",
    "    def update_id (self,id,title, year, category, available):\n",
    "        kq = self.search_id(id)\n",
    "        if kq == True:\n",
    "            if title:\n",
    "                kq.title == title\n",
    "            elif year:\n",
    "                kq.year == year\n",
    "            elif category:\n",
    "                kq.category = category\n",
    "            elif available:\n",
    "                kq.available == available\n",
    "            return True\n",
    "        return False\n",
    "    def find_new_media(self, year):\n",
    "        arr = []\n",
    "        for i in self.ds:\n",
    "            arr.append(i.year)\n",
    "        arr\n",
    "        arr.sort()\n",
    "        head = 0\n",
    "        tail = len(arr) - 1\n",
    "        middle = (head+tail)//2\n",
    "        while (head <= tail):\n",
    "            if (arr[middle] == year):\n",
    "                return 1\n",
    "            else:\n",
    "                if(arr[middle] > year):\n",
    "                    tail = middle - 1\n",
    "                else:\n",
    "                    head = middle + 1\n",
    "            middle = (head+tail)//2\n"
   ]
  },
  {
   "cell_type": "code",
   "execution_count": null,
   "metadata": {},
   "outputs": [],
   "source": [
    "ql = Quanly()\n"
   ]
  },
  {
   "cell_type": "code",
   "execution_count": null,
   "metadata": {},
   "outputs": [],
   "source": [
    "while True:\n",
    "    print(\"============MENU===========\")\n",
    "    print (\"1. Thêm loại sách()\")"
   ]
  },
  {
   "cell_type": "code",
   "execution_count": null,
   "metadata": {},
   "outputs": [],
   "source": [
    "()"
   ]
  }
 ],
 "metadata": {
  "kernelspec": {
   "display_name": "Python 3",
   "language": "python",
   "name": "python3"
  },
  "language_info": {
   "codemirror_mode": {
    "name": "ipython",
    "version": 3
   },
   "file_extension": ".py",
   "mimetype": "text/x-python",
   "name": "python",
   "nbconvert_exporter": "python",
   "pygments_lexer": "ipython3",
   "version": "3.11.4"
  }
 },
 "nbformat": 4,
 "nbformat_minor": 2
}
