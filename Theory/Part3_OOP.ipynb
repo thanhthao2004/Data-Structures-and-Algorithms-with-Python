{
 "cells": [
  {
   "cell_type": "code",
   "execution_count": 109,
   "metadata": {},
   "outputs": [],
   "source": [
    "sinhvien1 = {\n",
    "    \"MSSV\": \"123\",\n",
    "    \"Hoten\": \"QQQQ\",\n",
    "    \"DiemVan\": 5,\n",
    "    \"DiemToan\":6,\n",
    "    \"DiemLy\":7\n",
    "},\n",
    "sinhvien2 = {\n",
    "    \"MSSV\": \"456\",\n",
    "    \"Hoten\": \"wwww\",\n",
    "    \"DiemVan\": 5,\n",
    "    \"DiemToan\":9,\n",
    "    \"DiemLy\":7\n",
    "},\n",
    "sinhvien3 = {\n",
    "    \"MSSV\": \"789\",\n",
    "    \"Hoten\": \"eeee\",\n",
    "    \"DiemVan\": 5,\n",
    "    \"DiemToan\":6,\n",
    "    \"DiemLy\":10\n",
    "}\n"
   ]
  },
  {
   "cell_type": "code",
   "execution_count": 110,
   "metadata": {},
   "outputs": [],
   "source": [
    "# Tạo ra danh sách gồm 3 sinh viên\n",
    "danhsachSV = [{\n",
    "                \"MSSV\": \"123\",\n",
    "                \"Hoten\": \"QQQQ\",\n",
    "                \"DiemVan\": 5,\n",
    "                \"DiemToan\":6,\n",
    "                \"DiemLy\":7\n",
    "            },{\n",
    "                \"MSSV\": \"456\",\n",
    "                \"Hoten\": \"wwww\",\n",
    "                \"DiemVan\": 5,\n",
    "                \"DiemToan\":6,\n",
    "                \"DiemLy\":7\n",
    "            },{\n",
    "                \"MSSV\": \"789\",\n",
    "                \"Hoten\": \"eeee\",\n",
    "                \"DiemVan\": 5,\n",
    "                \"DiemToan\":6,\n",
    "                \"DiemLy\":7\n",
    "            }]"
   ]
  },
  {
   "cell_type": "code",
   "execution_count": 111,
   "metadata": {},
   "outputs": [
    {
     "data": {
      "text/plain": [
       "'QQQQ'"
      ]
     },
     "execution_count": 111,
     "metadata": {},
     "output_type": "execute_result"
    }
   ],
   "source": [
    "#lay diem van cua nguoi dau tien\n",
    "danhsachSV[0][\"Hoten\"]"
   ]
  },
  {
   "cell_type": "code",
   "execution_count": 112,
   "metadata": {},
   "outputs": [],
   "source": [
    "#Viet mot ham de tinh diem trung binh cua học sinh\n",
    "def TinhDiemTB (Van, Toan, Ly):\n",
    "    dtb = (Van + Toan + Ly)/3\n",
    "    return dtb"
   ]
  },
  {
   "cell_type": "code",
   "execution_count": 113,
   "metadata": {},
   "outputs": [
    {
     "data": {
      "text/plain": [
       "6.0"
      ]
     },
     "execution_count": 113,
     "metadata": {},
     "output_type": "execute_result"
    }
   ],
   "source": [
    "dtb = TinhDiemTB(danhsachSV[0][\"DiemVan\"],danhsachSV[0][\"DiemToan\"], danhsachSV[0][\"DiemLy\"])\n",
    "dtb"
   ]
  },
  {
   "cell_type": "code",
   "execution_count": 114,
   "metadata": {},
   "outputs": [
    {
     "name": "stdout",
     "output_type": "stream",
     "text": [
      "Sinh vien  QQQQ co so diem trung binh la:  6.0\n",
      "Sinh vien  wwww co so diem trung binh la:  6.0\n",
      "Sinh vien  eeee co so diem trung binh la:  6.0\n"
     ]
    }
   ],
   "source": [
    "for i in range(len(danhsachSV)):\n",
    "    dtb = TinhDiemTB(danhsachSV[i][\"DiemVan\"],danhsachSV[i][\"DiemToan\"], danhsachSV[i][\"DiemLy\"])\n",
    "    print(\"Sinh vien \", danhsachSV[i]['Hoten'],\"co so diem trung binh la: \", dtb)"
   ]
  },
  {
   "cell_type": "code",
   "execution_count": 115,
   "metadata": {},
   "outputs": [],
   "source": [
    "class Sinhvien:\n",
    "    def __init__(self, maSV, hoTen, diemVan, diemToan, diemLy):\n",
    "        #thuoc tinh\n",
    "        self.maSV = maSV\n",
    "        self.hoTen = hoTen\n",
    "        self.diemVan = diemVan\n",
    "        self.diemToan = diemToan\n",
    "        self.diemLy = diemLy\n",
    "        #phuong thuc\n",
    "    def  tinhTB(self):\n",
    "        return (self.diemVan + self.diemToan + self.diemLy)/3"
   ]
  },
  {
   "cell_type": "code",
   "execution_count": 124,
   "metadata": {},
   "outputs": [
    {
     "name": "stdout",
     "output_type": "stream",
     "text": [
      "Diem sinh vien: 5.667\n",
      "Diem sinh vien: 3.6666666666666665\n"
     ]
    }
   ],
   "source": [
    "sv1 = Sinhvien(1,\"Thao\",5,6,6)\n",
    "print(\"Diem sinh vien:\", \"{:.3f}\".format(sv1.tinhTB()))\n",
    "sv2 = Sinhvien(2,\"Bich\",5,6,0)\n",
    "print(f\"Diem sinh vien: {sv2.tinhTB()}\")"
   ]
  },
  {
   "cell_type": "code",
   "execution_count": 72,
   "metadata": {},
   "outputs": [],
   "source": [
    "class Nhanvien:\n",
    "    def __init__(self, maNV, hoTen, LuongCB, heSoLuong):\n",
    "        #thuoc tinh\n",
    "        self.maNV = maNV\n",
    "        self.hoTen = hoTen\n",
    "        self.LuongCB = LuongCB\n",
    "        self.heSoLuongNV = heSoLuong\n",
    "    #phuong thuc \n",
    "    def tinhLuong(self):\n",
    "        return self.LuongCB * self.heSoLuongNV\n"
   ]
  },
  {
   "cell_type": "code",
   "execution_count": 74,
   "metadata": {},
   "outputs": [],
   "source": [
    "class Quanly(Nhanvien):\n",
    "    def __init__(self, maNV, hoTen, LuongCB, heSoLuong, bonus): #overloading: nhiều tham sô hon\n",
    "        super().__init__(self, maNV, hoTen, LuongCB, heSoLuong)\n",
    "        self.bonus = bonus\n",
    "    def tinhLuong(self):\n",
    "        return self.LuongCB * self.heSoLuongNV + self.bonus"
   ]
  },
  {
   "cell_type": "code",
   "execution_count": 76,
   "metadata": {},
   "outputs": [],
   "source": [
    "class Giamdoc(Nhanvien):\n",
    "    def __init__(self, maNV, hoTen, LuongCB, heSoLuong, bonus, dsCN): #overloading: nhiều tham sô hon\n",
    "        super().__init__(self, maNV, hoTen, LuongCB, heSoLuong)\n",
    "        self.bonus = bonus\n",
    "        self.dsCN = dsCN\n",
    "    def tinhLuong(self):\n",
    "        return self.LuongCB * self.heSoLuongNV + self.bonus * 2"
   ]
  },
  {
   "cell_type": "code",
   "execution_count": 77,
   "metadata": {},
   "outputs": [
    {
     "name": "stdout",
     "output_type": "stream",
     "text": [
      "Luong cua nhan vien:  500\n"
     ]
    }
   ],
   "source": [
    "nv1 = Nhanvien(1,\"Thao\",5,100)\n",
    "print(\"Luong cua nhan vien: \",nv1.tinhLuong())"
   ]
  }
 ],
 "metadata": {
  "kernelspec": {
   "display_name": "Python 3",
   "language": "python",
   "name": "python3"
  },
  "language_info": {
   "codemirror_mode": {
    "name": "ipython",
    "version": 3
   },
   "file_extension": ".py",
   "mimetype": "text/x-python",
   "name": "python",
   "nbconvert_exporter": "python",
   "pygments_lexer": "ipython3",
   "version": "3.11.10"
  }
 },
 "nbformat": 4,
 "nbformat_minor": 2
}
