{
 "cells": [
  {
   "cell_type": "markdown",
   "metadata": {},
   "source": [
    "## 3 thuật toán sắp xếp\n",
    "### Bubble sort"
   ]
  },
  {
   "cell_type": "code",
   "execution_count": 81,
   "metadata": {},
   "outputs": [],
   "source": [
    "arr = [29,10,8,37,1]"
   ]
  },
  {
   "cell_type": "code",
   "execution_count": 82,
   "metadata": {},
   "outputs": [],
   "source": [
    "def bubble_sort(arr):\n",
    "    n = len(arr)\n",
    "    for i in range(n): # n -1\n",
    "        for j in range(n-1-i): #n-1-i\n",
    "            if(arr[j]>arr[j+1]): # O(1)\n",
    "                arr[j],arr[j+1] = arr[j+1],arr[j] #O(1)\n",
    "# F(n)= n *(n-1-i) * 1 *1 = O(n2)"
   ]
  },
  {
   "cell_type": "markdown",
   "metadata": {},
   "source": [
    "### Selection_sort"
   ]
  },
  {
   "cell_type": "code",
   "execution_count": 83,
   "metadata": {},
   "outputs": [],
   "source": [
    "def selection_sort(arr):\n",
    "    n = len(arr)\n",
    "    for i in range(n): # chạy n-1\n",
    "        min_index = i #chạy O(1)\n",
    "        for j in range(i+1,n): #chạy O(n-1-i)\n",
    "            if(arr[j]<arr[min_index]):#O(1)\n",
    "                min_index = j #O(1)\n",
    "        arr[i], arr[min_index]= arr[min_index], arr[i]#O(1)\n",
    "# F(n)= (n-1) *(n-1-i) * 1 *1 *1*1= O(n2)"
   ]
  },
  {
   "cell_type": "markdown",
   "metadata": {},
   "source": [
    "### Insertion_sort"
   ]
  },
  {
   "cell_type": "code",
   "execution_count": 84,
   "metadata": {},
   "outputs": [
    {
     "data": {
      "text/plain": [
       "[1, 8, 10, 29, 37]"
      ]
     },
     "execution_count": 84,
     "metadata": {},
     "output_type": "execute_result"
    }
   ],
   "source": [
    "def insertion_sort(arr):\n",
    "    n = len(arr)\n",
    "    for i in range(n): # n-1\n",
    "        key = arr[i] # 1\n",
    "        j = i-1 # 1\n",
    "        while j >= 0 and key<arr[j]: # n(n-1)/2\n",
    "            arr[j+1] = arr[j]# 1\n",
    "            j -=1 # 1\n",
    "        arr[j+1] = key # 1\n",
    "insertion_sort(arr)\n",
    "# F(n)= (n-1) *n * 1 *1 *1*1*1= O(n2)\n",
    "arr"
   ]
  },
  {
   "cell_type": "markdown",
   "metadata": {},
   "source": [
    "## 2 thuật toán tìm kiếm"
   ]
  },
  {
   "cell_type": "markdown",
   "metadata": {},
   "source": [
    "### Linear search "
   ]
  },
  {
   "cell_type": "code",
   "execution_count": 85,
   "metadata": {},
   "outputs": [
    {
     "name": "stdout",
     "output_type": "stream",
     "text": [
      "Không tìm thấy\n",
      "Không tìm thấy\n",
      "Không tìm thấy\n",
      "Không tìm thấy\n",
      "Không tìm thấy\n"
     ]
    }
   ],
   "source": [
    "arr = [29,10,8,37,1]\n",
    "def linear_serch(arr):\n",
    "    n = len(arr)\n",
    "    target = int(input(\"Nhập vào target cần tìm: \"))\n",
    "    for i in range(n):\n",
    "        if(arr[i]==target):\n",
    "            print(\"đã tìm thấy\")\n",
    "        print(\"Không tìm thấy\")\n",
    "linear_serch(arr)"
   ]
  },
  {
   "cell_type": "markdown",
   "metadata": {},
   "source": [
    "### binary search"
   ]
  },
  {
   "cell_type": "code",
   "execution_count": 86,
   "metadata": {},
   "outputs": [
    {
     "data": {
      "text/plain": [
       "'Đã tìm thấy'"
      ]
     },
     "execution_count": 86,
     "metadata": {},
     "output_type": "execute_result"
    }
   ],
   "source": [
    "def binary_search(arr):\n",
    "    arr.sort()\n",
    "    n = len(arr)\n",
    "    head = 0\n",
    "    tail = n -1\n",
    "    middle = (head+tail)//2\n",
    "    target = int(input(\"Nhập vào target cần tìm: \"))\n",
    "    while(head<=tail):\n",
    "        if arr[middle]==target:\n",
    "            return \"Đã tìm thấy\"\n",
    "        else:\n",
    "            if(arr[middle]<target):\n",
    "                head = middle + 1\n",
    "            else:\n",
    "                tail = middle-1\n",
    "            middle = (head+tail)//2\n",
    "    return \"không tìm thấy\"\n",
    "arr = [29,10,8,37,1]\n",
    "\n",
    "binary_search(arr)"
   ]
  },
  {
   "cell_type": "markdown",
   "metadata": {},
   "source": [
    "## QUEUE (Hàng đợi) FIFO"
   ]
  },
  {
   "cell_type": "code",
   "execution_count": 87,
   "metadata": {},
   "outputs": [],
   "source": [
    "class Queue:\n",
    "    def __init__(self):\n",
    "        self.queue = []\n",
    "    def is_empty(self):\n",
    "        return len(self.queue)==0\n",
    "    def __str__(self):\n",
    "        if self.is_empty():\n",
    "            return \"Rỗng\"\n",
    "        return str(self.queue)\n",
    "    def push(self,item):\n",
    "        self.queue.append(item)\n",
    "        return item\n",
    "    def pop(self,item):\n",
    "        if self.is_empty():\n",
    "            return \"rỗng\"\n",
    "        return self.queue.pop(0)"
   ]
  },
  {
   "cell_type": "markdown",
   "metadata": {},
   "source": [
    "## STACK(Ngăn xếp)LIFO"
   ]
  },
  {
   "cell_type": "code",
   "execution_count": 88,
   "metadata": {},
   "outputs": [],
   "source": [
    "class Stack:\n",
    "    def __init__(self):\n",
    "        self.stack = []\n",
    "    def is_empty(self):\n",
    "        return len(self.stack)==0\n",
    "    def __str__(self):\n",
    "        if self.is_empty():\n",
    "            return \"Rỗng\"\n",
    "        return str(self.stack)\n",
    "    def push(self,item):\n",
    "        self.stack.insert(0,item)\n",
    "        return item\n",
    "    def pop(self):\n",
    "        return self.stack.pop()"
   ]
  },
  {
   "cell_type": "code",
   "execution_count": null,
   "metadata": {},
   "outputs": [],
   "source": []
  }
 ],
 "metadata": {
  "kernelspec": {
   "display_name": "Python 3",
   "language": "python",
   "name": "python3"
  },
  "language_info": {
   "codemirror_mode": {
    "name": "ipython",
    "version": 3
   },
   "file_extension": ".py",
   "mimetype": "text/x-python",
   "name": "python",
   "nbconvert_exporter": "python",
   "pygments_lexer": "ipython3",
   "version": "3.11.4"
  }
 },
 "nbformat": 4,
 "nbformat_minor": 2
}
