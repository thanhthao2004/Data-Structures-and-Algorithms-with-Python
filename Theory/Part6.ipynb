{
 "cells": [
  {
   "cell_type": "markdown",
   "metadata": {},
   "source": [
    "## Thuật toán ngăn xếp"
   ]
  },
  {
   "cell_type": "code",
   "execution_count": 136,
   "metadata": {},
   "outputs": [],
   "source": [
    "import collections\n",
    "class Stack:\n",
    "    def __init__(self):\n",
    "        self.stack = collections.deque()\n",
    "    #Hàm này kiểm tra giỏ rỗng không\n",
    "    def is_empty (self):\n",
    "        return len(self.stack)== 0\n",
    "    #đẩy phần tử vào\n",
    "    def push (self, item):\n",
    "        return self.stack.append(item)\n",
    "    #lấy phần tử ra\n",
    "    def pop (self):\n",
    "        return self.stack.pop()"
   ]
  },
  {
   "cell_type": "code",
   "execution_count": 91,
   "metadata": {},
   "outputs": [
    {
     "name": "stdout",
     "output_type": "stream",
     "text": [
      "5\n",
      "10\n",
      "15\n",
      "20\n"
     ]
    },
    {
     "data": {
      "text/plain": [
       "<__main__.Stack at 0x10875f4d0>"
      ]
     },
     "execution_count": 91,
     "metadata": {},
     "output_type": "execute_result"
    }
   ],
   "source": [
    "a = [5,10,15,20]\n",
    "stack = Stack()\n",
    "for i in a:\n",
    "    print(i)\n",
    "    stack.push(i)\n",
    "stack"
   ]
  },
  {
   "cell_type": "code",
   "execution_count": 92,
   "metadata": {},
   "outputs": [
    {
     "data": {
      "text/plain": [
       "20"
      ]
     },
     "execution_count": 92,
     "metadata": {},
     "output_type": "execute_result"
    }
   ],
   "source": [
    "stack.pop()"
   ]
  },
  {
   "cell_type": "code",
   "execution_count": 93,
   "metadata": {},
   "outputs": [
    {
     "name": "stdout",
     "output_type": "stream",
     "text": [
      "15\n",
      "10\n",
      "5\n"
     ]
    }
   ],
   "source": [
    "while not stack.is_empty():\n",
    "    print(stack.pop())"
   ]
  },
  {
   "cell_type": "code",
   "execution_count": 94,
   "metadata": {},
   "outputs": [],
   "source": [
    "class Queue:\n",
    "    def __init__(self):\n",
    "        self.queue = []\n",
    "    def is_empty(self):\n",
    "        return len(self.queue) == 0\n",
    "    def push(self, item):\n",
    "        return self.queue.append(item)\n",
    "    def pop(self):\n",
    "        return self.queue.pop()"
   ]
  },
  {
   "cell_type": "code",
   "execution_count": 103,
   "metadata": {},
   "outputs": [
    {
     "name": "stdout",
     "output_type": "stream",
     "text": [
      "None\n",
      "None\n",
      "None\n",
      "None\n"
     ]
    }
   ],
   "source": [
    "qu = Queue()\n",
    "b = [1,2,3,4]\n",
    "for i in b:\n",
    "    print(qu.push(i))"
   ]
  },
  {
   "cell_type": "code",
   "execution_count": 105,
   "metadata": {},
   "outputs": [
    {
     "name": "stdout",
     "output_type": "stream",
     "text": [
      "4\n",
      "3\n",
      "2\n",
      "1\n"
     ]
    }
   ],
   "source": [
    "while not qu.is_empty():\n",
    "    print(qu.pop())"
   ]
  },
  {
   "cell_type": "code",
   "execution_count": 95,
   "metadata": {},
   "outputs": [],
   "source": [
    "import collections\n",
    "class Queue1:\n",
    "    def __init__(self):\n",
    "        self.queue = collections.deque()\n",
    "    def is_empty(self):\n",
    "        return len(self.queue) == 0\n",
    "    def push(self, item):\n",
    "        return self.queue.append(item)\n",
    "    def pop(self):\n",
    "        return self.queue.popleft()"
   ]
  },
  {
   "cell_type": "markdown",
   "metadata": {},
   "source": [
    "## Cách 3: sử dụng thư viên queue của Python cho hàng đợi"
   ]
  },
  {
   "cell_type": "code",
   "execution_count": 96,
   "metadata": {},
   "outputs": [],
   "source": [
    "import queue as queue_module\n",
    "class StdlibQueue:\n",
    "    def __init__(self):\n",
    "        self.queue = queue_module.Queue()"
   ]
  },
  {
   "cell_type": "markdown",
   "metadata": {},
   "source": [
    "### QLSV"
   ]
  },
  {
   "cell_type": "code",
   "execution_count": null,
   "metadata": {},
   "outputs": [],
   "source": [
    "class Sinhvien:\n",
    "    def __init__(self, id, name, gpa = None, age = None):\n",
    "        self.id = id\n",
    "        self.name = name\n",
    "        self.gpa = gpa\n",
    "        self.age = age\n",
    "    def InThongTin(self):\n",
    "        return f\"MSSV: {self.id}, Tên: {self.name}, GPA: {self.gpa}, Tuổi: {self.age}\""
   ]
  },
  {
   "cell_type": "code",
   "execution_count": 119,
   "metadata": {},
   "outputs": [],
   "source": [
    "class SinhvienQuocte(Sinhvien):\n",
    "    def __init__(self, id, name, gpa, age, country , language_score = None):\n",
    "        super().__init__(id, name, gpa, age)\n",
    "        self.country = country\n",
    "        self.language_score = language_score\n",
    "    def InThongTin(self):\n",
    "        return super().InThongTin() + f\",Thường trú: {self.country},  Language: {self.language_score}\""
   ]
  },
  {
   "cell_type": "code",
   "execution_count": 120,
   "metadata": {},
   "outputs": [
    {
     "data": {
      "text/plain": [
       "'MSSV: 1 Tên: Thao GPA:  Tuổi: ,Thường trú: Eng,  Language: 3'"
      ]
     },
     "execution_count": 120,
     "metadata": {},
     "output_type": "execute_result"
    }
   ],
   "source": [
    "svQT = SinhvienQuocte(1,'Thao','','','Eng',3)\n",
    "svQT.InThongTin()"
   ]
  },
  {
   "cell_type": "code",
   "execution_count": 121,
   "metadata": {},
   "outputs": [],
   "source": [
    "class SinhvienTotnghiep(Sinhvien):\n",
    "    def __init__(self, id, name, gpa, age, theory):\n",
    "        super().__init__(id, name, gpa, age)\n",
    "        self.theory = theory\n",
    "    def InThongTin(self):\n",
    "        return super().InThongTin() + f\",Tên đề tài: {self.theory}\""
   ]
  },
  {
   "cell_type": "code",
   "execution_count": 141,
   "metadata": {},
   "outputs": [],
   "source": [
    "import collections\n",
    "class QLSV:\n",
    "    def __init__(self):\n",
    "        self.ds = Stack() #Lưu theo ngăn xếp\n",
    "    def ThemSinhVien(self):\n",
    "        n = int(input(\"nhap so luong sinh vien ban muon them: \"))\n",
    "        for i in range(n):\n",
    "            id = input(\"Nhap id sinh vien: \")\n",
    "            name = input(\"Nhap ten sinh vien: \")\n",
    "            gpa = int(input(\"Nhap diem cua sinh vien: \"))\n",
    "            age = int(input(\"Nhap tuoi cua sinh vien: \"))\n",
    "            sv = Sinhvien(id,name,gpa,age)\n",
    "            self.ds.push(sv)\n",
    "    def XoaSinhVien(self):\n",
    "        if self.ds.is_empty():\n",
    "            print(\"Không có sinh viên nào\")\n",
    "            return None\n",
    "        else:\n",
    "            sv = int(input(\"Nhap ID sinh viên bạn muốn xóa: \"))\n",
    "            return self.ds.pop(sv)\n",
    "    def TimSVTheoID(self, id):\n",
    "        for sv in self.ds.stack:\n",
    "            if sv.id == id:\n",
    "                return sv\n",
    "            return None\n",
    "    def CapnhatThongtin(self,id, name, gpa, age):\n",
    "        for sv in self.ds.stack:\n",
    "            if self.TimSVTheoID(id):\n",
    "                if name:\n",
    "                    self.ds.name = name\n",
    "                if gpa:\n",
    "                    self.ds.gpa = gpa\n",
    "                if age:\n",
    "                    self.ds.age = age\n",
    "            return None"
   ]
  },
  {
   "cell_type": "code",
   "execution_count": 142,
   "metadata": {},
   "outputs": [],
   "source": [
    "qlsv = QLSV()\n",
    "qlsv.ThemSinhVien()"
   ]
  },
  {
   "cell_type": "markdown",
   "metadata": {},
   "source": [
    "### Bài tập: làm quản lý sinh viên bằng 2 file (Queue và Stack)\n",
    "#### Hàm chính trong hệ thống:\n",
    "1. Thêm sinh viên trong danh sách \n",
    "2. Xóa sinh viên\n",
    "3. Hiển thị danh sách sinh viên\n",
    "4. Tìm kiếm sinh viên theo ID bằng tuyến tính\n",
    "5. Cập nhật thông tin sinh viên\n",
    "6. Tìm sinh viên già nhất\n",
    "7. Sắp xếp sinh viên tăng dần sort (bằng GPA sử dụng Bubble Sort và ID sử dụng Selection Sort)\n",
    "8. Lưu và đọc dữ liệu từ file "
   ]
  }
 ],
 "metadata": {
  "kernelspec": {
   "display_name": "Python 3",
   "language": "python",
   "name": "python3"
  },
  "language_info": {
   "codemirror_mode": {
    "name": "ipython",
    "version": 3
   },
   "file_extension": ".py",
   "mimetype": "text/x-python",
   "name": "python",
   "nbconvert_exporter": "python",
   "pygments_lexer": "ipython3",
   "version": "3.11.4"
  }
 },
 "nbformat": 4,
 "nbformat_minor": 2
}
