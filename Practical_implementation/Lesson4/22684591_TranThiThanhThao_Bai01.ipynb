{
 "cells": [
  {
   "cell_type": "code",
   "execution_count": 2,
   "metadata": {},
   "outputs": [],
   "source": [
    "import time\n",
    "\n",
    "def merge_sort(arr):\n",
    "    if len(arr) <= 1:\n",
    "        return arr\n",
    "    mid = len(arr) // 2\n",
    "    left = merge_sort(arr[:mid])\n",
    "    right = merge_sort(arr[mid:])\n",
    "    return merge(left, right)\n",
    "\n",
    "def merge(left, right):\n",
    "    sorted_arr = []\n",
    "    i = j = 0\n",
    "    while i < len(left) and j < len(right):\n",
    "        if left[i] < right[j]:\n",
    "            sorted_arr.append(left[i])\n",
    "            i += 1\n",
    "        else:\n",
    "            sorted_arr.append(right[j])\n",
    "            j += 1\n",
    "    sorted_arr.extend(left[i:])\n",
    "    sorted_arr.extend(right[j:])\n",
    "    return sorted_arr\n",
    "\n",
    "def quick_sort(arr):\n",
    "    if len(arr) <= 1:\n",
    "        return arr\n",
    "    pivot = arr[len(arr) // 2]\n",
    "    left = [x for x in arr if x < pivot]\n",
    "    middle = [x for x in arr if x == pivot]\n",
    "    right = [x for x in arr if x > pivot]\n",
    "    return quick_sort(left) + middle + quick_sort(right)"
   ]
  },
  {
   "cell_type": "code",
   "execution_count": 3,
   "metadata": {},
   "outputs": [
    {
     "name": "stdout",
     "output_type": "stream",
     "text": [
      "Merge Sort Output: [-1, 3, 5, 7, 8]\n",
      "Time: 0.00013685226440429688 seconds\n",
      "Quick Sort Output: [-1, 3, 5, 7, 8]\n",
      "Time: 6.866455078125e-05 seconds\n"
     ]
    }
   ],
   "source": [
    "# Test code\n",
    "arr = [-1, 5, 7, 8, 3]\n",
    "start = time.time()\n",
    "print(\"Merge Sort Output:\", merge_sort(arr))\n",
    "print(\"Time:\", time.time() - start, \"seconds\")\n",
    "\n",
    "start = time.time()\n",
    "print(\"Quick Sort Output:\", quick_sort(arr))\n",
    "print(\"Time:\", time.time() - start, \"seconds\")"
   ]
  }
 ],
 "metadata": {
  "kernelspec": {
   "display_name": "Python 3",
   "language": "python",
   "name": "python3"
  },
  "language_info": {
   "codemirror_mode": {
    "name": "ipython",
    "version": 3
   },
   "file_extension": ".py",
   "mimetype": "text/x-python",
   "name": "python",
   "nbconvert_exporter": "python",
   "pygments_lexer": "ipython3",
   "version": "3.11.4"
  }
 },
 "nbformat": 4,
 "nbformat_minor": 2
}
