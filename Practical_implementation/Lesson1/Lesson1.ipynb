{
 "cells": [
  {
   "cell_type": "markdown",
   "metadata": {},
   "source": [
    "### I. Control structures, functions, lists, and files"
   ]
  },
  {
   "cell_type": "markdown",
   "metadata": {},
   "source": [
    "#### 1. Write a program to input 3 numbers and calculate the average"
   ]
  },
  {
   "cell_type": "code",
   "execution_count": 8,
   "metadata": {},
   "outputs": [
    {
     "name": "stdout",
     "output_type": "stream",
     "text": [
      "Result average of three number:  4.0\n"
     ]
    }
   ],
   "source": [
    "a = float(input(\"input the first number: \"))\n",
    "b = float(input(\"input the second number: \"))\n",
    "c = float(input(\"input the third number: \"))\n",
    "result = (a+b+c)/3\n",
    "print(\"Result average of three number: \", result)"
   ]
  },
  {
   "cell_type": "markdown",
   "metadata": {},
   "source": [
    "#### 2. Create a program that takes a list of numbers as input and outputs the prime numbers within that list"
   ]
  },
  {
   "cell_type": "code",
   "execution_count": 9,
   "metadata": {},
   "outputs": [
    {
     "name": "stdout",
     "output_type": "stream",
     "text": [
      "list we have:  [2, 1, 4]\n",
      "the prime is  [2]\n"
     ]
    }
   ],
   "source": [
    "n = int(input(\"Take n inputs for the list: \"))\n",
    "my_list = []\n",
    "for i in range(n):\n",
    "    input_number = int(input('input the numbers:'))\n",
    "    my_list.append(input_number)\n",
    "print(\"list we have: \",my_list)\n",
    "def is_prime(num):\n",
    "        if(num < 2):\n",
    "            return False\n",
    "        for i in range(2, int(num**0.5)+1):\n",
    "             if(num%i == 0):\n",
    "                  return False\n",
    "        return True\n",
    "primes = [num for num in my_list if is_prime(num)]\n",
    "print(\"the prime is \",primes)\n"
   ]
  },
  {
   "cell_type": "markdown",
   "metadata": {},
   "source": [
    "#### 3. Given the list my_lst = [1,3,5,7,8,9,2,4], print all perfect square numbers"
   ]
  },
  {
   "cell_type": "code",
   "execution_count": 10,
   "metadata": {},
   "outputs": [
    {
     "name": "stdout",
     "output_type": "stream",
     "text": [
      "square numbers are:  [1, 9, 4]\n"
     ]
    }
   ],
   "source": [
    "from math import sqrt\n",
    "my_lst = [1,3,5,7,8,9,2,4]\n",
    "my_lst_1 =[]\n",
    "for i in range(len(my_lst)):\n",
    "    if (int(my_lst[i]**0.5)*int(my_lst[i]**0.5)) == my_lst[i]:\n",
    "        my_lst_1.append(my_lst[i])\n",
    "print(\"square numbers are: \",my_lst_1)"
   ]
  },
  {
   "cell_type": "markdown",
   "metadata": {},
   "source": [
    "#### 4. Write a program to reverse a string.\n",
    "Ex:  \n",
    "- input: hiền \n",
    "\n",
    "- output: nềih"
   ]
  },
  {
   "cell_type": "code",
   "execution_count": 11,
   "metadata": {},
   "outputs": [
    {
     "name": "stdout",
     "output_type": "stream",
     "text": [
      "oaht\n"
     ]
    }
   ],
   "source": [
    "string = input(\"Input a string: \")\n",
    "print(string[::-1])"
   ]
  },
  {
   "cell_type": "markdown",
   "metadata": {},
   "source": [
    "#### 5. Write a program to find the two smallest numbers in a list."
   ]
  },
  {
   "cell_type": "code",
   "execution_count": 12,
   "metadata": {},
   "outputs": [
    {
     "name": "stdout",
     "output_type": "stream",
     "text": [
      "list we have:  ['2', '4', '5']\n",
      "two smallest: ['2', '4']\n"
     ]
    }
   ],
   "source": [
    "n = int(input(\"take n input for the list: \"))\n",
    "my_list = []\n",
    "for i in range(n):\n",
    "    take = input(\"Input a list numbers: \")\n",
    "    my_list.append(take)\n",
    "my_list.sort()\n",
    "print(\"list we have: \",my_list)\n",
    "if(len(my_list)>=3):\n",
    "    print(\"two smallest:\",my_list[:2:])"
   ]
  },
  {
   "cell_type": "markdown",
   "metadata": {},
   "source": [
    "#### 6. Write a program to find the index of the largest number in a list and its frequency\n",
    "Ex: my_lst = [9,1,3,5,7,8,9,2,4] \n",
    "\n",
    "output: \n",
    "\n",
    "- The index of the largest number is 0, 5 \n",
    "- The frequency of the largest number is 2"
   ]
  },
  {
   "cell_type": "code",
   "execution_count": 13,
   "metadata": {},
   "outputs": [
    {
     "name": "stdout",
     "output_type": "stream",
     "text": [
      "the index of the largest number are:  [9, 11, 12]\n",
      "the frequency of the largest number is:  3\n"
     ]
    }
   ],
   "source": [
    "my_lst = [9,1,3,5,7,8,9,2,4,30,21,30,30]\n",
    "def number_large (lst):\n",
    "    number_largest = max(lst)\n",
    "    position = []\n",
    "    for i in range(len(lst)):\n",
    "        if ((number_largest == lst[i])):\n",
    "            position.append(i)\n",
    "    count_number_large = len(position)\n",
    "    return position, count_number_large\n",
    "position, count_number_large = number_large(my_lst)\n",
    "print(\"the index of the largest number are: \", position)\n",
    "print(\"the frequency of the largest number is: \", count_number_large)\n",
    "        "
   ]
  },
  {
   "cell_type": "markdown",
   "metadata": {},
   "source": [
    "#### 7. Write a program to read a text file and display its content"
   ]
  },
  {
   "cell_type": "code",
   "execution_count": 14,
   "metadata": {},
   "outputs": [
    {
     "name": "stdout",
     "output_type": "stream",
     "text": [
      "The content in file:  Hello! I'm Thao who is a student at Industrial of University in Ho Chi Minh city.\n",
      "I'm excited when you cloned my repository\n",
      "5\n",
      "3\n",
      "Thanh thao, 8,9\n",
      "\n"
     ]
    }
   ],
   "source": [
    "import os\n",
    "def read_a_txt_display(path):\n",
    "    if os.path.exists(path):\n",
    "        with open(path, 'r', encoding='utf-8') as f:\n",
    "            content = f.read()\n",
    "            print(\"The content in file: \", content)\n",
    "    else:\n",
    "        print(\"File is not exists\")\n",
    "file_path = input(\"Input a path to file.txt: \" )\n",
    "read_a_txt_display(file_path)\n",
    "# you can try:\n",
    "# input: demo.txt\n",
    "# output: you will read my content in this file"
   ]
  },
  {
   "cell_type": "markdown",
   "metadata": {},
   "source": [
    "#### 8. Write a program that allows users to input student information (fullname, age, grade) and write a file text. Each student write on a row\n",
    "Example:\n",
    "\n",
    "Input: Nguyen Van A, 20, 8.5\n",
    "\n",
    "The file will save: Nguyen Van A\n",
    "\n",
    "20 years old\n",
    "\n",
    "Grade: 8.5\" "
   ]
  },
  {
   "cell_type": "code",
   "execution_count": 15,
   "metadata": {},
   "outputs": [
    {
     "name": "stdout",
     "output_type": "stream",
     "text": [
      "The information has been saved to the file.\n",
      "The information has been saved to the file.\n",
      "Data entry is complete.\n"
     ]
    }
   ],
   "source": [
    "import os\n",
    "\n",
    "def input_info_student(path):\n",
    "    # Ensure the file exists, if not, create a new file\n",
    "    if not os.path.exists(path):\n",
    "        print(f\"The file does not exist. Creating a new file: {path}\")\n",
    "        open(path, 'w', encoding='utf-8').close()  # Create an empty file\n",
    "    \n",
    "    while True:\n",
    "        with open(path, 'a', encoding='utf-8') as file:\n",
    "            # Enter student information\n",
    "            info_student = input(\"Enter student information (Full name, age, grade) or 'exit' to stop: \")\n",
    "            if info_student.lower() == 'exit':  # Check if 'exit' is entered to stop\n",
    "                print(\"Data entry is complete.\")\n",
    "                break\n",
    "            \n",
    "            # Write information to the file\n",
    "            file.write(info_student + '\\n')\n",
    "            print(\"The information has been saved to the file.\")\n",
    "\n",
    "# Call the function with the file path\n",
    "input_info_student('demo.txt')\n"
   ]
  },
  {
   "cell_type": "markdown",
   "metadata": {},
   "source": [
    "#### 9. Given the following tuple: numbers = (1, 2, 3, 2, 4, 2, 5). Write a program to:\n",
    "\n",
    "- Count the occurrences of the number 2\n",
    "\n",
    "- Convert the tuple into a list and append the number 6 at the end\n",
    "\n",
    "- Print the first and last elements of the tuple"
   ]
  },
  {
   "cell_type": "code",
   "execution_count": 16,
   "metadata": {},
   "outputs": [
    {
     "name": "stdout",
     "output_type": "stream",
     "text": [
      "List after adding 6: [1, 2, 3, 2, 4, 2, 5, 6]\n",
      "The number 2 appears 3 times.\n",
      "First element: 1\n",
      "Last element: 5\n"
     ]
    }
   ],
   "source": [
    "numbers = (1, 2, 3, 2, 4, 2, 5)\n",
    "# Convert tuple to list and add the number 6\n",
    "numbers_list = list(numbers)\n",
    "numbers_list.append(6) \n",
    "print(\"List after adding 6:\", numbers_list)\n",
    "# Count the occurrences of the number 2\n",
    "count_of_2 = numbers.count(2)\n",
    "print(f\"The number 2 appears {count_of_2} times.\")\n",
    "\n",
    "# Print the first and last elements of the original tuple\n",
    "print(\"First element:\", numbers[0])\n",
    "print(\"Last element:\", numbers[-1])"
   ]
  },
  {
   "cell_type": "markdown",
   "metadata": {},
   "source": [
    "#### 10. Create a dictionary to store information about countries and their capitals. Write a program that allows:\n",
    "- Adding a new country-capital pair\n",
    "- Searching for the capital when entering the country's name\n",
    "- Deleting a country from the dictionary\n",
    "- Displaying all countries and their capitals"
   ]
  },
  {
   "cell_type": "code",
   "execution_count": 17,
   "metadata": {},
   "outputs": [
    {
     "name": "stdout",
     "output_type": "stream",
     "text": [
      "\n",
      "Menu:\n",
      "1. Add a new country and capital\n",
      "2. Search for a capital by country name\n",
      "3. Remove a country\n",
      "4. Display all countries and capitals\n",
      "5. Exit\n",
      "Added: Viet Nam - Ha Noi\n",
      "\n",
      "Menu:\n",
      "1. Add a new country and capital\n",
      "2. Search for a capital by country name\n",
      "3. Remove a country\n",
      "4. Display all countries and capitals\n",
      "5. Exit\n",
      "Exiting program.\n"
     ]
    }
   ],
   "source": [
    "countries = {}\n",
    "\n",
    "def add_country_and_capital():\n",
    "    country = input(\"Enter the name of the country: \")\n",
    "    capital = input(\"Enter the capital of the country: \")\n",
    "    countries[country] = capital\n",
    "    print(f\"Added: {country} - {capital}\")\n",
    "\n",
    "def search_capital():\n",
    "    country = input(\"Enter the country name to search: \")\n",
    "    if country in countries:\n",
    "        print(f\"The capital of {country} is {countries[country]}.\")\n",
    "    else:\n",
    "        print(f\"{country} is not in the dictionary.\")\n",
    "\n",
    "def remove_country():\n",
    "    country = input(\"Enter the country name to remove: \")\n",
    "    if country in countries:\n",
    "        del countries[country]\n",
    "        print(f\"{country} has been removed.\")\n",
    "    else:\n",
    "        print(f\"{country} is not in the dictionary.\")\n",
    "\n",
    "def display_all_countries_and_capitals():\n",
    "    print(\"List of countries and their capitals:\")\n",
    "    for country, capital in countries.items():\n",
    "        print(f\"{country}: {capital}\")\n",
    "\n",
    "def manage_countries():\n",
    "    while True:\n",
    "        print(\"\\nMenu:\")\n",
    "        print(\"1. Add a new country and capital\")\n",
    "        print(\"2. Search for a capital by country name\")\n",
    "        print(\"3. Remove a country\")\n",
    "        print(\"4. Display all countries and capitals\")\n",
    "        print(\"5. Exit\")\n",
    "        \n",
    "        choice = input(\"Enter your choice: \").strip()\n",
    "        \n",
    "        if choice == \"1\":\n",
    "            add_country_and_capital()\n",
    "        elif choice == \"2\":\n",
    "            search_capital()\n",
    "        elif choice == \"3\":\n",
    "            remove_country()\n",
    "        elif choice == \"4\":\n",
    "            display_all_countries_and_capitals()\n",
    "        elif choice == \"5\":\n",
    "            print(\"Exiting program.\")\n",
    "            break\n",
    "        else:\n",
    "            print(\"Invalid choice. Please try again.\")\n",
    "\n",
    "manage_countries()\n"
   ]
  },
  {
   "cell_type": "markdown",
   "metadata": {},
   "source": [
    "#### 11. Write a program that asks the user to enter a positive integer n and handles the following exceptions:\n",
    "\n",
    "- If the user enters a letter instead of a number\n",
    "- If the user enters a negative number\n",
    "\n",
    "Print an appropriate error message and ask the user to re-enter the input.\n",
    "\n",
    "Example 1:\n",
    "\n",
    "- Input: abc\n",
    "- Output: Please enter a number!\n",
    "\n",
    "Example 2:\n",
    "\n",
    "- Input: -5\n",
    "- Output: Please enter a positive integer!"
   ]
  },
  {
   "cell_type": "code",
   "execution_count": 18,
   "metadata": {},
   "outputs": [
    {
     "name": "stdout",
     "output_type": "stream",
     "text": [
      "Please enter a number!\n",
      "Please enter a positive integer!\n"
     ]
    }
   ],
   "source": [
    "while True:\n",
    "  try:\n",
    "    n = int(input(\"Enter a positive integer: \"))\n",
    "    if n <= 0:\n",
    "      print(\"Please enter a positive integer!\")\n",
    "    else:\n",
    "      break  # Exit the loop if a valid input is entered\n",
    "  except ValueError:\n",
    "    print(\"Please enter a number!\")"
   ]
  }
 ],
 "metadata": {
  "kernelspec": {
   "display_name": "Python 3",
   "language": "python",
   "name": "python3"
  },
  "language_info": {
   "codemirror_mode": {
    "name": "ipython",
    "version": 3
   },
   "file_extension": ".py",
   "mimetype": "text/x-python",
   "name": "python",
   "nbconvert_exporter": "python",
   "pygments_lexer": "ipython3",
   "version": "3.11.4"
  }
 },
 "nbformat": 4,
 "nbformat_minor": 2
}
