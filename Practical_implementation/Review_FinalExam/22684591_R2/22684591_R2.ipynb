{
 "cells": [
  {
   "cell_type": "markdown",
   "id": "aa362756",
   "metadata": {},
   "source": [
    "\n",
    "R2: 60 phút (Đặt tên file MSSV_R2.ipynb/py)\n",
    "\n",
    "Đề bài: Quản lý sinh viên bằng cây nhị phân tìm kiếm\n",
    "Yêu cầu: Xây dựng một chương trình quản lý sinh viên sử dụng cấu trúc dữ liệu cây nhị phân tìm kiếm (Binary Search Tree) với các thông tin sinh viên gồm: Mã sinh viên (MaSV), Họ tên, và Điểm trung bình. Cây nhị phân tìm kiếm được sắp xếp dựa trên mã sinh viên.\n",
    "Xây dựng menu (1đ) bao gồm các chức năng sau:\n",
    "1.\tĐọc file MSSV.txt đổ vô cây nhị phân tìm kiếm (MSSV thay thành của bạn) (1đ)\n",
    "Ví dụ: (bạn cần thay đổi lại nội dung file, tối thiểu file phải có 6 dòng)\n",
    "001, Nguyen Van A, 4.5\n",
    "2.\tDuyệt và xuất dữ liệu của cây nhị phân tìm kiếm theo thứ tự NLR (1đ)\n",
    "3.\tĐếm số nút có 2 con của cây (1đ)\n",
    "4.\tTìm các sinh viên có điểm trung bình > 5 lưu vào Queue. (2đ)\n",
    "5.\tViết hàm in thông tin trong Queue (1đ)\n",
    "6.\tXoá một node có giá trị là MaSV do người dùng nhập (1đ)\n",
    "7.\tTìm những nút có 1 con, in ra file MSSV_FindLeaf.txt (2đ)\n",
    "8.\tThoát.\n"
   ]
  },
  {
   "cell_type": "code",
   "execution_count": 52,
   "id": "73e2f237",
   "metadata": {},
   "outputs": [],
   "source": [
    "class Student:\n",
    "    def __init__(self,masv,hoten,diemtb = None):\n",
    "        self.masv = masv\n",
    "        self.hoten = hoten\n",
    "        self.diemtb = diemtb\n",
    "    def print(self):\n",
    "        print(f\"Mã sinh viên: {self.masv}, họ tên: {self.hoten}, điểm trung bình: {self.diemtb}\")\n",
    "    def __lt__(self, other):\n",
    "        return self.masv < other.masv  # So sánh MSSV"
   ]
  },
  {
   "cell_type": "code",
   "execution_count": null,
   "id": "05a681c6",
   "metadata": {},
   "outputs": [],
   "source": [
    "class Node:\n",
    "    def __init__(self, data=None):\n",
    "        self.data = data\n",
    "        self.left = None\n",
    "        self.right = None\n",
    "    \n",
    "    def insert(self, value):\n",
    "        if self.data is None:\n",
    "            # Nếu nút này chưa có dữ liệu, gán nó với giá trị đầu tiên\n",
    "            self.data = value\n",
    "        elif value < self.data:\n",
    "            if self.left is None:\n",
    "                self.left = Node(value)\n",
    "            else:\n",
    "                self.left.insert(value)\n",
    "        else:\n",
    "            if self.right is None:\n",
    "                self.right = Node(value)\n",
    "            else:\n",
    "                self.right.insert(value)\n",
    "\n",
    "    def insert_file_txt(self, filename):\n",
    "        with open(filename, 'r') as file:\n",
    "            lines = file.readlines()\n",
    "            for line in lines:\n",
    "                parts = line.strip().split(', ')\n",
    "                if len(parts) < 3:\n",
    "                    print(f\"Dòng không hợp lệ: {line.strip()}\")\n",
    "                    continue  # Bỏ qua dòng không hợp lệ\n",
    "\n",
    "                student_id = parts[0]\n",
    "                name = parts[1]\n",
    "                # Kiểm tra xem điểm có tồn tại hay không, nếu không có thì gán là None\n",
    "                score = float(parts[2]) if parts[2] else None\n",
    "                student_data = Student(student_id, name, score)  # Khởi tạo đối tượng Student\n",
    "                self.insert(student_data)  # Chèn đối tượng Student vào cây\n",
    "    def LNR(self):\n",
    "        if self.left:\n",
    "            self.left.LNR()\n",
    "        print(self.data.masv, self.data.)\n",
    "        if self.right:\n",
    "            self.right.LNR()"
   ]
  },
  {
   "cell_type": "code",
   "execution_count": 64,
   "id": "7ea1e337",
   "metadata": {},
   "outputs": [
    {
     "name": "stdout",
     "output_type": "stream",
     "text": [
      "Dòng không hợp lệ: 002, Nguyen Van B,\n"
     ]
    }
   ],
   "source": [
    "n = Node()  # Khởi tạo cây nhị phân\n",
    "file = '22684591.txt'  # Đường dẫn tới file txt\n",
    "n.insert_file_txt(file)  # Đọc file và chèn dữ liệu vào cây nhị phân\n"
   ]
  },
  {
   "cell_type": "code",
   "execution_count": 65,
   "id": "8fe2f810",
   "metadata": {},
   "outputs": [
    {
     "name": "stdout",
     "output_type": "stream",
     "text": [
      "<__main__.Student object at 0x1144f9fd0>\n",
      "<__main__.Student object at 0x1144f9390>\n",
      "<__main__.Student object at 0x1144f83d0>\n",
      "<__main__.Student object at 0x1144fbe50>\n",
      "<__main__.Student object at 0x1144fbed0>\n"
     ]
    }
   ],
   "source": [
    "n.LNR()"
   ]
  },
  {
   "cell_type": "code",
   "execution_count": null,
   "id": "26a21a19",
   "metadata": {},
   "outputs": [],
   "source": []
  }
 ],
 "metadata": {
  "kernelspec": {
   "display_name": "Python 3",
   "language": "python",
   "name": "python3"
  },
  "language_info": {
   "codemirror_mode": {
    "name": "ipython",
    "version": 3
   },
   "file_extension": ".py",
   "mimetype": "text/x-python",
   "name": "python",
   "nbconvert_exporter": "python",
   "pygments_lexer": "ipython3",
   "version": "3.11.4"
  }
 },
 "nbformat": 4,
 "nbformat_minor": 5
}
