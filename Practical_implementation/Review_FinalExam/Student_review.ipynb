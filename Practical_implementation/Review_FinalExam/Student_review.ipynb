{
 "cells": [
  {
   "cell_type": "code",
   "execution_count": 214,
   "id": "c55f5544",
   "metadata": {},
   "outputs": [],
   "source": [
    "class queue: #FIFO\n",
    "    def __init__(self):\n",
    "        self.ds = []\n",
    "    def __str__(self):\n",
    "        print(str(self.ds))\n",
    "    def is_empty(self):\n",
    "        return len(self.ds)==0\n",
    "    def push(self, item):\n",
    "        self.ds.append(item)\n",
    "    def pop(self):\n",
    "        self.ds.pop()"
   ]
  },
  {
   "cell_type": "code",
   "execution_count": 215,
   "id": "331a7743",
   "metadata": {},
   "outputs": [],
   "source": [
    "class stack: #LIFO\n",
    "    def __init__(self):\n",
    "        self.ds = []\n",
    "    def __str__(self):\n",
    "        print(str(self.ds))\n",
    "    def is_empty(self):\n",
    "        return len(self.ds) == 0\n",
    "    def push(self, item):\n",
    "        self.ds.insert(0,item)\n",
    "    def pop(self):\n",
    "        if self.is_empty():\n",
    "            return 'Ham rong'\n",
    "        else:\n",
    "            self.ds.pop(0)"
   ]
  },
  {
   "cell_type": "code",
   "execution_count": 216,
   "id": "f7b6c6ad",
   "metadata": {},
   "outputs": [],
   "source": [
    "class Node:\n",
    "    def __init__(self,masv, hoten, lop, diem = None):\n",
    "        self.masv = masv\n",
    "        self.hoten = hoten\n",
    "        self.lop = lop\n",
    "        self.diem = diem\n",
    "        self.left = None\n",
    "        self.right = None\n",
    "\n",
    "    #xét 3 trường hợp:\n",
    "    #Mã sinh viên thêm vào trùng với mã có trong BST\n",
    "    #Mã sinh viên thêm vào nhỏ hơn mã sv hiện có\n",
    "        #bên trái có dữ liệu -> đệ quy để trỏ tới none\n",
    "        #trên trái k có dữ liệu -> chèn Node()\n",
    "    #Mã sinh viên thêm vào lớn hơn mã sv hiện có:\n",
    "        #bên phải có dữ liệu -> đệ quy trỏ tới None\n",
    "        #bên phải không có dữ liệu -> chèn Node()\n",
    "    def insert_node(self, masv, hoten,lop, diem):\n",
    "        if self.masv == masv:\n",
    "            print(\"Ma sinh vien trung khong the them\")\n",
    "            return False\n",
    "        elif self.masv > masv:\n",
    "            if self.left:\n",
    "                self.left.insert_node(masv, hoten, lop, diem)\n",
    "            else:\n",
    "                self.left = Node(masv, hoten,lop, diem)\n",
    "                return True\n",
    "        elif self.masv < masv:\n",
    "            if self.right:\n",
    "                self.right.insert_node(masv, hoten, lop, diem)\n",
    "            else:\n",
    "                self.right = Node(masv, hoten,lop, diem)\n",
    "                return True\n",
    "            \n",
    "    def LNR(self):\n",
    "        if self.left:\n",
    "            self.left.LNR()\n",
    "        print(self.masv, self.hoten, self.lop, self.diem)\n",
    "        if self.right:\n",
    "            self.right.LNR()\n",
    "    \n",
    "    def find_node(self,masv):\n",
    "        if masv == self.masv:\n",
    "            print(\"Đã tìm thấy sinh viên có thông tin là: \", self.masv, self.hoten,self.lop,self.diem)\n",
    "            return True\n",
    "        if self.left:\n",
    "            if self.left.find_node(masv):\n",
    "                return True\n",
    "        if self.right:\n",
    "            if self.right.find_node(masv):\n",
    "                return True\n",
    "        return False\n",
    "    \n",
    "    def count_2_children(self, ds = None):\n",
    "        if ds is None:\n",
    "            ds = []\n",
    "        if self.left is not None and self.right is not None:\n",
    "            ds.append(Node(self.masv,self.hoten,self.lop,self.diem))\n",
    "        if self.left:\n",
    "            self.left.count_2_children(ds)\n",
    "        if self.right:\n",
    "            self.right.count_2_children(ds)\n",
    "        return ds\n",
    "    \n",
    "    def count_1_children(self,ds = None):\n",
    "        if ds is None:\n",
    "            ds = []\n",
    "        if (self.left and not self.right) or (self.right and not self.left):\n",
    "            ds.append(Node(self.masv,self.hoten,self.lop,self.diem))\n",
    "        if self.left:\n",
    "            self.left.count_1_children(ds)\n",
    "        if self.right:\n",
    "            self.right.count_1_children(ds)\n",
    "        return ds\n",
    "    \n",
    "    def count_leaf(self,ds = None):\n",
    "        if ds is None:\n",
    "            ds = []\n",
    "        if self.left is None and self.right is None:\n",
    "            ds.append(Node(self.masv,self.hoten,self.lop,self.diem))\n",
    "        if self.left:\n",
    "            self.left.count_leaf(ds)\n",
    "        if self.right:\n",
    "            self.right.count_leaf(ds)\n",
    "        return ds\n",
    "    \n",
    "    def count_chan(self,ds = None):\n",
    "        if ds is None:\n",
    "            ds = []\n",
    "        if self.masv%2==0:\n",
    "            ds.append(Node(self.masv,self.hoten,self.lop,self.diem))\n",
    "        if self.left:\n",
    "            self.left.count_chan(ds)\n",
    "        if self.right:\n",
    "            self.right.count_chan(ds)\n",
    "        return ds\n",
    "        \n",
    "    #hàm delete\n",
    "    def delete_node(self, masv):\n",
    "        if self.left and self.masv > masv:\n",
    "            self.left = self.left.delete_node(masv)\n",
    "        elif self.right and self.masv < masv:\n",
    "            self.right = self.right.delete_node(masv)\n",
    "    # có 3 trường hợp\n",
    "        else:\n",
    "    # node k có con\n",
    "            if self.left is None and self.right is None:\n",
    "                return None\n",
    "    # node có 1 con\n",
    "            if self.left is None:\n",
    "                return self.right\n",
    "            if self.right is None:\n",
    "                return self.left\n",
    "    # node có 2 con: thay thế bằng số nhỏ nhất của bên right\n",
    "            else:\n",
    "                temp = self.right\n",
    "                while temp.left:\n",
    "                    temp = temp.left\n",
    "                self.masv = temp.masv\n",
    "                self.hoten = temp.hoten\n",
    "                self.lop = temp.lop\n",
    "                self.diem = temp.diem\n",
    "                self.right = self.right.delete_node(temp.masv)\n",
    "        return self\n",
    "    \n",
    "    def update_node(self,masv):\n",
    "            self.delete_node(masv)\n",
    "            masv = int(input(\"Nhập mã sinh viên: \"))\n",
    "            hoten = input(\"Nhập họ tên: \")\n",
    "            lop = input(\"Nhập lớp: \")\n",
    "            diem = float(input(\"Nhập điểm: \"))\n",
    "            self.insert_node(masv,hoten,lop,diem)\n",
    "            self.LNR()\n",
    "            return self"
   ]
  },
  {
   "cell_type": "code",
   "execution_count": 217,
   "id": "4dd34b11",
   "metadata": {},
   "outputs": [],
   "source": [
    "n = Node(1000, 'Thao', '18A', 10)\n",
    "n.insert_node(1100, 'An', '18A', 9)\n",
    "n.insert_node(900, 'Bich', '18A', 10)\n",
    "n.insert_node(1019, 'Hanh', '18A', 10)"
   ]
  },
  {
   "cell_type": "code",
   "execution_count": 218,
   "id": "be8f408f",
   "metadata": {},
   "outputs": [
    {
     "name": "stdout",
     "output_type": "stream",
     "text": [
      "900 Bich 18A 10\n",
      "1000 Thao 18A 10\n",
      "1019 Hanh 18A 10\n",
      "1100 An 18A 9\n"
     ]
    }
   ],
   "source": [
    "n.LNR()"
   ]
  },
  {
   "cell_type": "code",
   "execution_count": 219,
   "id": "c30b5920",
   "metadata": {},
   "outputs": [
    {
     "name": "stdout",
     "output_type": "stream",
     "text": [
      "Đã tìm thấy sinh viên có thông tin là:  900 Bich 18A 10\n"
     ]
    },
    {
     "data": {
      "text/plain": [
       "True"
      ]
     },
     "execution_count": 219,
     "metadata": {},
     "output_type": "execute_result"
    }
   ],
   "source": [
    "n.find_node(900)"
   ]
  },
  {
   "cell_type": "code",
   "execution_count": 220,
   "id": "f4bf9285",
   "metadata": {},
   "outputs": [
    {
     "data": {
      "text/plain": [
       "False"
      ]
     },
     "execution_count": 220,
     "metadata": {},
     "output_type": "execute_result"
    }
   ],
   "source": [
    "n.find_node(3000)"
   ]
  },
  {
   "cell_type": "code",
   "execution_count": 221,
   "id": "b58972a9",
   "metadata": {},
   "outputs": [
    {
     "name": "stdout",
     "output_type": "stream",
     "text": [
      "Mã sinh viên: 1000, Họ tên: Thao, Lớp: 18A, Điểm: 10\n"
     ]
    }
   ],
   "source": [
    "s = stack()\n",
    "ds = n.count_2_children()\n",
    "for i in ds:\n",
    "    s.push(i)\n",
    "    print(f'Mã sinh viên: {i.masv}, Họ tên: {i.hoten}, Lớp: {i.lop}, Điểm: {i.diem}')"
   ]
  },
  {
   "cell_type": "code",
   "execution_count": 222,
   "id": "88c1be5c",
   "metadata": {},
   "outputs": [
    {
     "name": "stdout",
     "output_type": "stream",
     "text": [
      "Mã sinh viên: 1100, Họ tên: An, Lớp: 18A, Điểm: 9\n"
     ]
    }
   ],
   "source": [
    "s1 = stack()\n",
    "ds  = n.count_1_children()\n",
    "for i in ds:\n",
    "    s1.push(i)\n",
    "    print(f'Mã sinh viên: {i.masv}, Họ tên: {i.hoten}, Lớp: {i.lop}, Điểm: {i.diem}')"
   ]
  },
  {
   "cell_type": "code",
   "execution_count": 223,
   "id": "2b7968dc",
   "metadata": {},
   "outputs": [
    {
     "name": "stdout",
     "output_type": "stream",
     "text": [
      "Mã sinh viên: 900, Họ tên: Bich, Lớp: 18A, Điểm: 10\n",
      "Mã sinh viên: 1019, Họ tên: Hanh, Lớp: 18A, Điểm: 10\n"
     ]
    }
   ],
   "source": [
    "s1 = stack()\n",
    "ds  = n.count_leaf()\n",
    "for i in ds:\n",
    "    s1.push(i)\n",
    "    print(f'Mã sinh viên: {i.masv}, Họ tên: {i.hoten}, Lớp: {i.lop}, Điểm: {i.diem}')"
   ]
  },
  {
   "cell_type": "code",
   "execution_count": 224,
   "id": "2da41152",
   "metadata": {},
   "outputs": [
    {
     "name": "stdout",
     "output_type": "stream",
     "text": [
      "Mã sinh viên: 1019, Họ tên: Hanh, Lớp: 18A, Điểm: 10\n",
      "Mã sinh viên: 900, Họ tên: Bich, Lớp: 18A, Điểm: 10\n"
     ]
    }
   ],
   "source": [
    "for i in s1.ds:\n",
    "    print(f'Mã sinh viên: {i.masv}, Họ tên: {i.hoten}, Lớp: {i.lop}, Điểm: {i.diem}')"
   ]
  },
  {
   "cell_type": "code",
   "execution_count": 225,
   "id": "9edd9799",
   "metadata": {},
   "outputs": [],
   "source": [
    "with open('stack.txt','w') as file:\n",
    "    ds = n.count_leaf()\n",
    "    s = stack()\n",
    "    for i in ds:\n",
    "        s.push(i)\n",
    "    for i in s.ds:\n",
    "        file.write(f'Mã sinh viên: {i.masv}, Họ tên: {i.hoten}, Lớp: {i.lop}, Điểm: {i.diem}\\n')\n",
    "        "
   ]
  },
  {
   "cell_type": "code",
   "execution_count": 226,
   "id": "b0dbac1d",
   "metadata": {},
   "outputs": [
    {
     "name": "stdout",
     "output_type": "stream",
     "text": [
      "['Mã sinh viên: 1019, Họ tên: Hanh, Lớp: 18A, Điểm: 10\\n', 'Mã sinh viên: 900, Họ tên: Bich, Lớp: 18A, Điểm: 10\\n']\n"
     ]
    }
   ],
   "source": [
    "with open('stack.txt','r') as file:\n",
    "    content = file.readlines()\n",
    "    print(content)"
   ]
  },
  {
   "cell_type": "code",
   "execution_count": 227,
   "id": "f6cd472d",
   "metadata": {},
   "outputs": [
    {
     "name": "stdout",
     "output_type": "stream",
     "text": [
      "900 Bich 18A 10\n",
      "1000 Thao 18A 10\n",
      "1019 Hanh 18A 10\n",
      "1100 An 18A 9\n"
     ]
    }
   ],
   "source": [
    "n.LNR()"
   ]
  },
  {
   "cell_type": "code",
   "execution_count": 228,
   "id": "6a1f721c",
   "metadata": {},
   "outputs": [
    {
     "name": "stdout",
     "output_type": "stream",
     "text": [
      "Mã sinh viên: 1000, Họ tên: Thao, Lớp: 18A, Điểm: 10\n",
      "Mã sinh viên: 900, Họ tên: Bich, Lớp: 18A, Điểm: 10\n",
      "Mã sinh viên: 1100, Họ tên: An, Lớp: 18A, Điểm: 9\n"
     ]
    }
   ],
   "source": [
    "ds = n.count_chan()\n",
    "for i in ds:\n",
    "    print(f'Mã sinh viên: {i.masv}, Họ tên: {i.hoten}, Lớp: {i.lop}, Điểm: {i.diem}')"
   ]
  },
  {
   "cell_type": "code",
   "execution_count": 229,
   "id": "242dca60",
   "metadata": {},
   "outputs": [],
   "source": [
    "# n.update_node(1019)"
   ]
  },
  {
   "cell_type": "markdown",
   "id": "876710a0",
   "metadata": {},
   "source": [
    "- insert sẽ có 3 trường hợp:\n",
    "    + dùng if, elif, elif\n",
    "    + dữ liệu trùng thì return false luôn\n",
    "    + dữ liệu thêm nhỏ hơn thì duyệt left 2 trường hợp: left rỗng thì thêm Node -> return True, ngược lại đệ quy\n",
    "    + dữ liệu thêm lớn hơn thì duyệt right 2 trường hợp: right rồng thì thêm Node -> return True, ngược lại đệ quy\n",
    "- delete sẽ có 3 trường hợp duyệt (if data xóa nhỏ hơn -> gán giá trị left, elif data xóa lớn hơn -> gán giá trị right, else), khi duyệt trường hợp cuối cùng khi nó đã bằng sẽ đẻ ra 3 trường hợp:\n",
    "    + node là node lá: if\n",
    "    + node có 1 con: if\n",
    "    + node có 2 con: else"
   ]
  }
 ],
 "metadata": {
  "kernelspec": {
   "display_name": "Python 3",
   "language": "python",
   "name": "python3"
  },
  "language_info": {
   "codemirror_mode": {
    "name": "ipython",
    "version": 3
   },
   "file_extension": ".py",
   "mimetype": "text/x-python",
   "name": "python",
   "nbconvert_exporter": "python",
   "pygments_lexer": "ipython3",
   "version": "3.11.4"
  }
 },
 "nbformat": 4,
 "nbformat_minor": 5
}
