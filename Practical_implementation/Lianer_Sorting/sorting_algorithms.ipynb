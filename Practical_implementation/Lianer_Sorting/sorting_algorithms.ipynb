{
 "cells": [
  {
   "cell_type": "markdown",
   "metadata": {},
   "source": [
    "Bài tập 1 (sorting_algorithms): \n",
    "So sánh hiệu suất sắp xếp cơbản\n",
    "o  Tạo một mảng ngẫu nhiên có 1000 phần tử \n",
    "o  Chạy cả 3 thuật toán trên cùng một mảng đầu vào \n",
    "o  Đo thời gian thực thi của mỗi thuật toán \n",
    "o  Hiển thị mẫu dữliệu đã sắp xếp"
   ]
  },
  {
   "cell_type": "code",
   "execution_count": 53,
   "metadata": {},
   "outputs": [
    {
     "data": {
      "text/plain": [
       "[9, 3, 2, 1, 5, 4, 6, 10, 8, 7]"
      ]
     },
     "execution_count": 53,
     "metadata": {},
     "output_type": "execute_result"
    }
   ],
   "source": [
    "import random\n",
    "n = 10\n",
    "arr = random.sample(range(1,11), n)\n",
    "arr"
   ]
  },
  {
   "cell_type": "code",
   "execution_count": 54,
   "metadata": {},
   "outputs": [],
   "source": [
    "import time"
   ]
  },
  {
   "cell_type": "code",
   "execution_count": null,
   "metadata": {},
   "outputs": [
    {
     "name": "stdout",
     "output_type": "stream",
     "text": [
      "Thời gian thực thi: 0.00012183189392089844 giây\n"
     ]
    }
   ],
   "source": [
    "# Ghi nhận thời điểm bắt đầu\n",
    "start_time = time.time()\n",
    "def bubble_sort (arr):\n",
    "    n = len(arr)\n",
    "    for i in range(n): #chạy n lần\n",
    "        for j in range(0, n-1-i): #chạy n-1-i lần\n",
    "            if arr[j] > arr[j+1]: #chạy O(1)\n",
    "                arr[j], arr[j+1] = arr[j+1], arr[j] \n",
    "bubble_sort(arr)\n",
    "#F(n) = n((n-1-i)+1) = O(n^2)\n",
    "# Ghi nhận thời điểm kết thúc\n",
    "end_time = time.time()\n",
    "\n",
    "# Tính thời gian thực thi\n",
    "execution_time = end_time - start_time\n",
    "print(f\"Thời gian thực thi: {execution_time} giây\")"
   ]
  },
  {
   "cell_type": "code",
   "execution_count": 56,
   "metadata": {},
   "outputs": [
    {
     "name": "stdout",
     "output_type": "stream",
     "text": [
      "Thời gian thực thi: 0.00022602081298828125 giây\n"
     ]
    }
   ],
   "source": [
    "# Ghi nhận thời điểm bắt đầu\n",
    "start_time = time.time()\n",
    "def selection_short(arr):\n",
    "    n = len(arr)\n",
    "    for i in range(n):\n",
    "        min_index = i\n",
    "        for j in range(i+1, n):\n",
    "            if arr[j]< arr[min_index]:\n",
    "                min_index=j\n",
    "        arr[i], arr[min_index] =  arr[min_index] ,arr[i]\n",
    "selection_short(arr)\n",
    "# Ghi nhận thời điểm kết thúc\n",
    "end_time = time.time()\n",
    "\n",
    "# Tính thời gian thực thi\n",
    "execution_time = end_time - start_time\n",
    "print(f\"Thời gian thực thi: {execution_time} giây\")"
   ]
  },
  {
   "cell_type": "code",
   "execution_count": 57,
   "metadata": {},
   "outputs": [
    {
     "name": "stdout",
     "output_type": "stream",
     "text": [
      "Thời gian thực thi: 8.702278137207031e-05 giây\n"
     ]
    }
   ],
   "source": [
    "# Ghi nhận thời điểm bắt đầu\n",
    "start_time = time.time()\n",
    "def insertion_sort(arr):\n",
    "    n = len(arr)\n",
    "    for i in range(1, n):\n",
    "        key = arr[i]\n",
    "        j= i-1\n",
    "        while j>=0 and arr[j]>key:\n",
    "            arr[j+1]=arr[j]\n",
    "            j=j-1\n",
    "        arr[j+1]=key\n",
    "insertion_sort(arr)\n",
    "# Ghi nhận thời điểm kết thúc\n",
    "end_time = time.time()\n",
    "\n",
    "# Tính thời gian thực thi\n",
    "execution_time = end_time - start_time\n",
    "print(f\"Thời gian thực thi: {execution_time} giây\")"
   ]
  },
  {
   "cell_type": "code",
   "execution_count": 58,
   "metadata": {},
   "outputs": [
    {
     "data": {
      "text/plain": [
       "[1, 2, 3, 4, 5, 6, 7, 8, 9, 10]"
      ]
     },
     "execution_count": 58,
     "metadata": {},
     "output_type": "execute_result"
    }
   ],
   "source": [
    "arr"
   ]
  }
 ],
 "metadata": {
  "kernelspec": {
   "display_name": "Python 3",
   "language": "python",
   "name": "python3"
  },
  "language_info": {
   "codemirror_mode": {
    "name": "ipython",
    "version": 3
   },
   "file_extension": ".py",
   "mimetype": "text/x-python",
   "name": "python",
   "nbconvert_exporter": "python",
   "pygments_lexer": "ipython3",
   "version": "3.11.4"
  }
 },
 "nbformat": 4,
 "nbformat_minor": 2
}
