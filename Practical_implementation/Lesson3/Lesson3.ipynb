{
 "cells": [
  {
   "cell_type": "code",
   "execution_count": 35,
   "metadata": {},
   "outputs": [],
   "source": [
    "class Employee: \n",
    "    def __init__(self, ID, name, age,salary):\n",
    "        self.ID = ID\n",
    "        self.Name = name\n",
    "        self.Age = age\n",
    "        self.Salary = salary\n",
    "    def in_Thongtin_NV(self):\n",
    "        print(f\"Ma nhan vien: {self.ID}, Ho va ten nhan vien: {self.Name}, Tuoi: {self.Age}, Luong: {self.Salary}\")\n",
    "        "
   ]
  },
  {
   "cell_type": "code",
   "execution_count": 36,
   "metadata": {},
   "outputs": [],
   "source": [
    "class Employee_Management:\n",
    "    def __init__(self):\n",
    "        self.ds = []\n",
    "    def Doc_File(self):\n",
    "        try:\n",
    "            with open(\"employee.txt\", \"r\", encoding=\"utf-8\") as file:\n",
    "                for line in file:\n",
    "                    data = line.strip().split(\",\")  # Tách dữ liệu theo dấu phẩy\n",
    "                    if len(data) == 4:  # Đảm bảo có đủ 4 phần tử\n",
    "                        ID, name, age, salary = data\n",
    "                        emp = Employee(ID, name, int(age), float(salary))\n",
    "                        self.ds.append(emp)\n",
    "        except FileNotFoundError:\n",
    "            print(f\"Lỗi: Không tìm thấy file\")\n",
    "        except Exception as e:\n",
    "            print(f\"Lỗi khi đọc file: {e}\")\n",
    "    def in_DanhSach_NV(self):\n",
    "        for emp in self.ds:\n",
    "            emp.in_Thongtin_NV()"
   ]
  },
  {
   "cell_type": "code",
   "execution_count": 37,
   "metadata": {},
   "outputs": [
    {
     "ename": "TypeError",
     "evalue": "Employee_Management.Doc_File() missing 1 required positional argument: 'self'",
     "output_type": "error",
     "traceback": [
      "\u001b[0;31m---------------------------------------------------------------------------\u001b[0m",
      "\u001b[0;31mTypeError\u001b[0m                                 Traceback (most recent call last)",
      "Cell \u001b[0;32mIn[37], line 2\u001b[0m\n\u001b[1;32m      1\u001b[0m ql \u001b[38;5;241m=\u001b[39m Employee_Management\n\u001b[0;32m----> 2\u001b[0m \u001b[43mql\u001b[49m\u001b[38;5;241;43m.\u001b[39;49m\u001b[43mDoc_File\u001b[49m\u001b[43m(\u001b[49m\u001b[43m)\u001b[49m\n",
      "\u001b[0;31mTypeError\u001b[0m: Employee_Management.Doc_File() missing 1 required positional argument: 'self'"
     ]
    }
   ],
   "source": [
    "ql = Employee_Management\n",
    "ql.Doc_File()"
   ]
  }
 ],
 "metadata": {
  "kernelspec": {
   "display_name": "Python 3",
   "language": "python",
   "name": "python3"
  },
  "language_info": {
   "codemirror_mode": {
    "name": "ipython",
    "version": 3
   },
   "file_extension": ".py",
   "mimetype": "text/x-python",
   "name": "python",
   "nbconvert_exporter": "python",
   "pygments_lexer": "ipython3",
   "version": "3.11.4"
  }
 },
 "nbformat": 4,
 "nbformat_minor": 2
}
