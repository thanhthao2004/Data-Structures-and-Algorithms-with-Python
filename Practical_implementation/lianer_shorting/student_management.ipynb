{
 "cells": [
  {
   "cell_type": "markdown",
   "metadata": {},
   "source": [
    "Xây dựng hệ thống quản lý sinh viên, mỗi sinh viên có: MSSV, họ \n",
    "tên, tuổi, và GPA \n",
    " \n",
    "Các chức năng chính:  \n",
    "o Thêm sinh viên mới  \n",
    "o Hiển thị danh sách sinh viên  \n",
    "o Sắp xếp theo GPA (dùng Bubble Sort)  \n",
    "o Sắp xếp theo tên (dùng Insertion Sort)  \n",
    "o Sắp xếp theo tuổi (dùng Selection Sort)  \n",
    "o Tìm kiếm sinh viên theo MSSV"
   ]
  },
  {
   "cell_type": "code",
   "execution_count": 264,
   "metadata": {},
   "outputs": [],
   "source": [
    "class SinhVien:\n",
    "    def __init__(self, mssv, hoten, tuoi, gpa):\n",
    "        self.mssv = mssv\n",
    "        self.hoten = hoten\n",
    "        self.tuoi =tuoi\n",
    "        self.gpa = gpa\n",
    "    def InThongTinSV(self):\n",
    "        print(f\"MSSV: {self.mssv}, Họ tên: {self.hoten}, Tuổi: {self.tuoi}, GPA: {self.gpa}\")"
   ]
  },
  {
   "cell_type": "code",
   "execution_count": 265,
   "metadata": {},
   "outputs": [],
   "source": [
    "class QLSV:\n",
    "    def __init__(self):\n",
    "        self.ds =[]\n",
    "    def ThemSV(self):\n",
    "        n = int(input(\"nhap so luong sinh vien muon them: \" ))\n",
    "        for i in range(n):\n",
    "                mssv = input(\"Nhap mssv: \")\n",
    "                hoten = input(\"Nhap ho ten sinh vien: \")\n",
    "                tuoi = int(input(\"Nhap tuoi cua sinh vien: \"))\n",
    "                gpa = float(input(\"Nhap gpa cua sinh vien: \"))\n",
    "                sv = SinhVien(mssv,hoten,tuoi,gpa)\n",
    "                self.ds.append(sv)\n",
    "        print(\"Them sinh vien thanh cong!\")\n",
    "    def HienThiDSSV(self):\n",
    "         for sv in self.ds:\n",
    "             print(f\"MSSV: {sv.mssv}, Họ tên: {sv.hoten}, Tuổi: {sv.tuoi}, GPA: {sv.gpa}\")\n",
    "    def SapXepGPA(self):\n",
    "        n = len(self.ds)\n",
    "        for i in range(n):\n",
    "            for j in range(n-i-1):\n",
    "                   if(self.ds[j].gpa> self.ds[j+1].gpa):\n",
    "                        # temp = self.ds[j]\n",
    "                        # self.ds[j]=self.ds[j+1]\n",
    "                        # self.ds[j+1]= temp\n",
    "                    self.ds[j], self.ds[j + 1] = self.ds[j + 1], self.ds[j] \n",
    "    def sap_xep_ho_ten(self):\n",
    "        n = len(self.ds)\n",
    "        for i in range(n):\n",
    "            min_index = i\n",
    "            for j in range(i+1,n):\n",
    "                if(self.ds[j].hoten < self.ds[min_index].hoten):\n",
    "                        min_index = j\n",
    "            self.ds[i], self.ds[min_index] = self.ds[min_index], self.ds[i]\n",
    "    def SapXepTheoTuoi(self):\n",
    "        n = len(self.ds)\n",
    "        for i in range(1, n):\n",
    "            key = self.ds[i].tuoi \n",
    "            j = i-1\n",
    "            while j>=0 and self.ds[j].tuoi >key:\n",
    "                self.ds[j+1].tuoi = self.ds[j].tuoi\n",
    "                j = j -1\n",
    "            self.ds[j+1].tuoi = key\n",
    "    def TimKiemTheoMSSV(self):\n",
    "        mssv = input(\"Nhap mssv ban muon tim: \")\n",
    "        for sv in self.ds:\n",
    "            if mssv == sv.mssv:\n",
    "                print(f\"Ket qua sinh vien ban muon tim la: MSSV: {sv.mssv}, Họ tên: {sv.hoten}, Tuổi: {sv.tuoi}, GPA: {sv.gpa}\")\n",
    "            else:\n",
    "                print(\"khong tim thay sinh vien\")\n"
   ]
  },
  {
   "cell_type": "code",
   "execution_count": 266,
   "metadata": {},
   "outputs": [],
   "source": [
    "ql = QLSV()"
   ]
  },
  {
   "cell_type": "code",
   "execution_count": 267,
   "metadata": {},
   "outputs": [
    {
     "name": "stdout",
     "output_type": "stream",
     "text": [
      "MSSV: 2, Họ tên: an, Tuổi: 99, GPA: 1.0\n",
      "MSSV: 1, Họ tên: thao, Tuổi: 8, GPA: 9.0\n",
      "\n",
      "===== QUẢN LÝ SINH VIÊN =====\n",
      "1. Thêm sinh viên mới\n",
      "2. Hiển thị danh sách sinh viên\n",
      "3. Sắp xếp theo GPA (Bubble Sort)\n",
      "4. Sắp xếp theo tên (Insertion Sort)\n",
      "5. Sắp xếp theo tuổi (Selection Sort)\n",
      "6. Tìm kiếm sinh viên theo MSSV\n",
      "0. Thoát chương trình\n",
      "khong tim thay sinh vien\n",
      "Ket qua sinh vien ban muon tim la: MSSV: 1, Họ tên: thao, Tuổi: 8, GPA: 9.0\n",
      "\n",
      "===== QUẢN LÝ SINH VIÊN =====\n",
      "1. Thêm sinh viên mới\n",
      "2. Hiển thị danh sách sinh viên\n",
      "3. Sắp xếp theo GPA (Bubble Sort)\n",
      "4. Sắp xếp theo tên (Insertion Sort)\n",
      "5. Sắp xếp theo tuổi (Selection Sort)\n",
      "6. Tìm kiếm sinh viên theo MSSV\n",
      "0. Thoát chương trình\n",
      "Thoát chương trình. Hẹn gặp lại!\n"
     ]
    }
   ],
   "source": [
    "def Menu():\n",
    "    ql = QLSV()\n",
    "    while(True):\n",
    "        print(\"\\n===== QUẢN LÝ SINH VIÊN =====\")\n",
    "        print(\"1. Thêm sinh viên mới\")\n",
    "        print(\"2. Hiển thị danh sách sinh viên\")\n",
    "        print(\"3. Sắp xếp theo GPA (Bubble Sort)\")\n",
    "        print(\"4. Sắp xếp theo tên (Insertion Sort)\")\n",
    "        print(\"5. Sắp xếp theo tuổi (Selection Sort)\")\n",
    "        print(\"6. Tìm kiếm sinh viên theo MSSV\")\n",
    "        print(\"0. Thoát chương trình\")\n",
    "        choice = input(\"Chọn chức năng: \")\n",
    "        if choice == \"1\":\n",
    "            ql.ThemSV()\n",
    "        elif choice == \"2\":\n",
    "            ql.HienThiDSSV()\n",
    "        elif choice == \"3\":\n",
    "            ql.SapXepGPA()\n",
    "        elif choice == \"4\":\n",
    "            ql.sap_xep_ho_ten()\n",
    "        elif choice == \"5\":\n",
    "            ql.SapXepTheoTuoi()\n",
    "        elif choice == \"6\":\n",
    "            ql.TimKiemTheoMSSV()\n",
    "        elif choice == \"0\":\n",
    "            print(\"Thoát chương trình. Hẹn gặp lại!\")\n",
    "            break\n",
    "        else:\n",
    "            print(\"Lựa chọn không hợp lệ. Vui lòng thử lại!\")\n",
    "Menu()"
   ]
  }
 ],
 "metadata": {
  "kernelspec": {
   "display_name": "Python 3",
   "language": "python",
   "name": "python3"
  },
  "language_info": {
   "codemirror_mode": {
    "name": "ipython",
    "version": 3
   },
   "file_extension": ".py",
   "mimetype": "text/x-python",
   "name": "python",
   "nbconvert_exporter": "python",
   "pygments_lexer": "ipython3",
   "version": "3.11.4"
  }
 },
 "nbformat": 4,
 "nbformat_minor": 2
}
